{
 "cells": [
  {
   "cell_type": "code",
   "execution_count": 1,
   "metadata": {},
   "outputs": [],
   "source": [
    "import pymysql\n",
    "#import LRUCache\n",
    "import pandas as pd"
   ]
  },
  {
   "cell_type": "code",
   "execution_count": 2,
   "metadata": {},
   "outputs": [],
   "source": [
    "from collections import OrderedDict\n",
    "\n",
    "\n",
    "class LRUCache(OrderedDict):\n",
    "\n",
    "    def __init__(self, capacity):\n",
    "        \"\"\"\n",
    "        :type capacity: int\n",
    "        \"\"\"\n",
    "        self.capacity = capacity\n",
    "\n",
    "    def get(self, key):\n",
    "        \"\"\"\n",
    "        :type key: int\n",
    "        :rtype: int\n",
    "        \"\"\"\n",
    "        if key not in self:\n",
    "            return - 1\n",
    "\n",
    "        self.move_to_end(key)\n",
    "        return self[key]\n",
    "\n",
    "    def put(self, key, value):\n",
    "        \"\"\"\n",
    "        :type key: int\n",
    "        :type value: int\n",
    "        :rtype: void\n",
    "        \"\"\"\n",
    "        if key in self:\n",
    "            self.move_to_end(key)\n",
    "        self[key] = value\n",
    "        if len(self) > self.capacity:\n",
    "            self.popitem(last=False)"
   ]
  },
  {
   "cell_type": "code",
   "execution_count": 21,
   "metadata": {},
   "outputs": [],
   "source": [
    "cache_user = LRUCache(1000)"
   ]
  },
  {
   "cell_type": "code",
   "execution_count": 30,
   "metadata": {},
   "outputs": [],
   "source": [
    "sql1=\"select screen_name name from user_info order by followers_count desc limit 100\"  "
   ]
  },
  {
   "cell_type": "code",
   "execution_count": 31,
   "metadata": {},
   "outputs": [],
   "source": [
    "db = pymysql.connect(host='projectuser.cjnnbmy31uit.us-east-2.rds.amazonaws.com',\n",
    "                     user='admin',\n",
    "                     passwd='4ULstfSQwoIkWzDz3Qd6',\n",
    "                     port=3306,\n",
    "                     charset='utf8',\n",
    "                     db='tweetuser',\n",
    "                     cursorclass=pymysql.cursors.DictCursor)\n",
    "cursor=db.cursor()\n",
    "cursor.execute(sql1)\n",
    "rows = cursor.fetchall()\n",
    "out=list(rows)\n",
    "db.close()"
   ]
  },
  {
   "cell_type": "code",
   "execution_count": 16,
   "metadata": {},
   "outputs": [],
   "source": [
    "def search_db_user(sql):\n",
    "    db = pymysql.connect(host='projectuser.cjnnbmy31uit.us-east-2.rds.amazonaws.com',\n",
    "                     user='admin',\n",
    "                     passwd='4ULstfSQwoIkWzDz3Qd6',\n",
    "                     port=3306,\n",
    "                     charset='utf8',\n",
    "                     db='tweetuser',\n",
    "                     cursorclass=pymysql.cursors.DictCursor)\n",
    "    cursor=db.cursor()\n",
    "    cursor.execute(sql)\n",
    "    rows = cursor.fetchall()\n",
    "    out=list(rows)\n",
    "    db.close()\n",
    "    return out"
   ]
  },
  {
   "cell_type": "code",
   "execution_count": 33,
   "metadata": {},
   "outputs": [],
   "source": [
    "for i in range(100):\n",
    "    name=out[i][\"name\"]\n",
    "    num=\">-1\"\n",
    "    sql=\"select screen_name name,description,favourites_count,followers_count,friends_count from user_info where name like '%\"+name+\"%' and followers_count\"+num+\" order by followers_count desc\"\n",
    "    a=search_db_user(sql)\n",
    "    cache_user.put(str(sql), a)"
   ]
  },
  {
   "cell_type": "code",
   "execution_count": null,
   "metadata": {},
   "outputs": [],
   "source": []
  }
 ],
 "metadata": {
  "kernelspec": {
   "display_name": "Python 3",
   "language": "python",
   "name": "python3"
  },
  "language_info": {
   "codemirror_mode": {
    "name": "ipython",
    "version": 3
   },
   "file_extension": ".py",
   "mimetype": "text/x-python",
   "name": "python",
   "nbconvert_exporter": "python",
   "pygments_lexer": "ipython3",
   "version": "3.7.3"
  }
 },
 "nbformat": 4,
 "nbformat_minor": 2
}
