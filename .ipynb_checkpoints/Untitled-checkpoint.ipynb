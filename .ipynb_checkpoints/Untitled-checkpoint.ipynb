{
 "cells": [
  {
   "cell_type": "code",
   "execution_count": 13,
   "metadata": {},
   "outputs": [],
   "source": [
    "import json\n",
    "import pandas as pd\n",
    "import matplotlib.pyplot as plt\n",
    "import re"
   ]
  },
  {
   "cell_type": "code",
   "execution_count": 14,
   "metadata": {},
   "outputs": [
    {
     "ename": "TypeError",
     "evalue": "the JSON object must be str, bytes or bytearray, not 'TextIOWrapper'",
     "output_type": "error",
     "traceback": [
      "\u001b[0;31m---------------------------------------------------------------------------\u001b[0m",
      "\u001b[0;31mTypeError\u001b[0m                                 Traceback (most recent call last)",
      "\u001b[0;32m<ipython-input-14-a2697c49140d>\u001b[0m in \u001b[0;36m<module>\u001b[0;34m\u001b[0m\n\u001b[1;32m      3\u001b[0m \u001b[0mtweets_data\u001b[0m \u001b[0;34m=\u001b[0m \u001b[0;34m[\u001b[0m\u001b[0;34m]\u001b[0m\u001b[0;34m\u001b[0m\u001b[0;34m\u001b[0m\u001b[0m\n\u001b[1;32m      4\u001b[0m \u001b[0mtweets_file\u001b[0m \u001b[0;34m=\u001b[0m \u001b[0mopen\u001b[0m\u001b[0;34m(\u001b[0m\u001b[0mtweets_data_path\u001b[0m\u001b[0;34m,\u001b[0m \u001b[0;34m\"r\"\u001b[0m\u001b[0;34m)\u001b[0m\u001b[0;34m\u001b[0m\u001b[0;34m\u001b[0m\u001b[0m\n\u001b[0;32m----> 5\u001b[0;31m \u001b[0mtweets_data\u001b[0m \u001b[0;34m=\u001b[0m \u001b[0mjson\u001b[0m\u001b[0;34m.\u001b[0m\u001b[0mloads\u001b[0m\u001b[0;34m(\u001b[0m\u001b[0mtweets_file\u001b[0m\u001b[0;34m)\u001b[0m\u001b[0;34m\u001b[0m\u001b[0;34m\u001b[0m\u001b[0m\n\u001b[0m",
      "\u001b[0;32m~/anaconda3/lib/python3.6/json/__init__.py\u001b[0m in \u001b[0;36mloads\u001b[0;34m(s, encoding, cls, object_hook, parse_float, parse_int, parse_constant, object_pairs_hook, **kw)\u001b[0m\n\u001b[1;32m    346\u001b[0m         \u001b[0;32mif\u001b[0m \u001b[0;32mnot\u001b[0m \u001b[0misinstance\u001b[0m\u001b[0;34m(\u001b[0m\u001b[0ms\u001b[0m\u001b[0;34m,\u001b[0m \u001b[0;34m(\u001b[0m\u001b[0mbytes\u001b[0m\u001b[0;34m,\u001b[0m \u001b[0mbytearray\u001b[0m\u001b[0;34m)\u001b[0m\u001b[0;34m)\u001b[0m\u001b[0;34m:\u001b[0m\u001b[0;34m\u001b[0m\u001b[0;34m\u001b[0m\u001b[0m\n\u001b[1;32m    347\u001b[0m             raise TypeError('the JSON object must be str, bytes or bytearray, '\n\u001b[0;32m--> 348\u001b[0;31m                             'not {!r}'.format(s.__class__.__name__))\n\u001b[0m\u001b[1;32m    349\u001b[0m         \u001b[0ms\u001b[0m \u001b[0;34m=\u001b[0m \u001b[0ms\u001b[0m\u001b[0;34m.\u001b[0m\u001b[0mdecode\u001b[0m\u001b[0;34m(\u001b[0m\u001b[0mdetect_encoding\u001b[0m\u001b[0;34m(\u001b[0m\u001b[0ms\u001b[0m\u001b[0;34m)\u001b[0m\u001b[0;34m,\u001b[0m \u001b[0;34m'surrogatepass'\u001b[0m\u001b[0;34m)\u001b[0m\u001b[0;34m\u001b[0m\u001b[0;34m\u001b[0m\u001b[0m\n\u001b[1;32m    350\u001b[0m \u001b[0;34m\u001b[0m\u001b[0m\n",
      "\u001b[0;31mTypeError\u001b[0m: the JSON object must be str, bytes or bytearray, not 'TextIOWrapper'"
     ]
    }
   ],
   "source": [
    "tweets_data_path = './test-out.txt'\n",
    "\n",
    "tweets_data = []\n",
    "tweets_file = open(tweets_data_path, \"r\")\n",
    "for line in tweets_file:\n",
    "    try:\n",
    "        tweets_data = json.loads(line)\n",
    "        tweets_data.append(tweet)\n",
    "    except:\n",
    "        continue"
   ]
  },
  {
   "cell_type": "code",
   "execution_count": 3,
   "metadata": {},
   "outputs": [
    {
     "data": {
      "text/plain": [
       "list"
      ]
     },
     "execution_count": 3,
     "metadata": {},
     "output_type": "execute_result"
    }
   ],
   "source": [
    "type(tweets_data)"
   ]
  },
  {
   "cell_type": "code",
   "execution_count": 4,
   "metadata": {},
   "outputs": [
    {
     "data": {
      "text/plain": [
       "{'created_at': 'Tue Apr 21 01:26:30 +0000 2020',\n",
       " 'id': 1252408337292906504,\n",
       " 'id_str': '1252408337292906504',\n",
       " 'text': 'RT @LaidlawMedia: Today in Hip Hop: Ghostface Killah released his fourth solo album The Pretty Toney Album - April 20, 2004 on Def Jam Reco…',\n",
       " 'source': '<a href=\"http://twitter.com/download/android\" rel=\"nofollow\">Twitter for Android</a>',\n",
       " 'truncated': False,\n",
       " 'in_reply_to_status_id': None,\n",
       " 'in_reply_to_status_id_str': None,\n",
       " 'in_reply_to_user_id': None,\n",
       " 'in_reply_to_user_id_str': None,\n",
       " 'in_reply_to_screen_name': None,\n",
       " 'user': {'id': 1072967981603450881,\n",
       "  'id_str': '1072967981603450881',\n",
       "  'name': 'Xavien Orchard',\n",
       "  'screen_name': 'OrchardXavien',\n",
       "  'location': None,\n",
       "  'url': None,\n",
       "  'description': 'A nasty man, hustler and overall force of nature with some MGTOW leanings. \\nhttp://cash.me/RalphDLake\\nSC: t_beneloventk19.',\n",
       "  'translator_type': 'none',\n",
       "  'protected': False,\n",
       "  'verified': False,\n",
       "  'followers_count': 206,\n",
       "  'friends_count': 304,\n",
       "  'listed_count': 0,\n",
       "  'favourites_count': 26905,\n",
       "  'statuses_count': 23007,\n",
       "  'created_at': 'Wed Dec 12 21:34:36 +0000 2018',\n",
       "  'utc_offset': None,\n",
       "  'time_zone': None,\n",
       "  'geo_enabled': False,\n",
       "  'lang': None,\n",
       "  'contributors_enabled': False,\n",
       "  'is_translator': False,\n",
       "  'profile_background_color': 'F5F8FA',\n",
       "  'profile_background_image_url': '',\n",
       "  'profile_background_image_url_https': '',\n",
       "  'profile_background_tile': False,\n",
       "  'profile_link_color': '1DA1F2',\n",
       "  'profile_sidebar_border_color': 'C0DEED',\n",
       "  'profile_sidebar_fill_color': 'DDEEF6',\n",
       "  'profile_text_color': '333333',\n",
       "  'profile_use_background_image': True,\n",
       "  'profile_image_url': 'http://pbs.twimg.com/profile_images/1141523488458575873/Vn0WifZI_normal.jpg',\n",
       "  'profile_image_url_https': 'https://pbs.twimg.com/profile_images/1141523488458575873/Vn0WifZI_normal.jpg',\n",
       "  'profile_banner_url': 'https://pbs.twimg.com/profile_banners/1072967981603450881/1581343409',\n",
       "  'default_profile': True,\n",
       "  'default_profile_image': False,\n",
       "  'following': None,\n",
       "  'follow_request_sent': None,\n",
       "  'notifications': None},\n",
       " 'geo': None,\n",
       " 'coordinates': None,\n",
       " 'place': None,\n",
       " 'contributors': None,\n",
       " 'retweeted_status': {'created_at': 'Tue Apr 21 00:07:25 +0000 2020',\n",
       "  'id': 1252388435584708608,\n",
       "  'id_str': '1252388435584708608',\n",
       "  'text': 'Today in Hip Hop: Ghostface Killah released his fourth solo album The Pretty Toney Album - April 20, 2004 on Def Ja… https://t.co/6VFSDPCMFb',\n",
       "  'display_text_range': [0, 140],\n",
       "  'source': '<a href=\"https://buffer.com\" rel=\"nofollow\">Buffer</a>',\n",
       "  'truncated': True,\n",
       "  'in_reply_to_status_id': None,\n",
       "  'in_reply_to_status_id_str': None,\n",
       "  'in_reply_to_user_id': None,\n",
       "  'in_reply_to_user_id_str': None,\n",
       "  'in_reply_to_screen_name': None,\n",
       "  'user': {'id': 2955042683,\n",
       "   'id_str': '2955042683',\n",
       "   'name': 'Laidlaw Media',\n",
       "   'screen_name': 'LaidlawMedia',\n",
       "   'location': 'US/UK',\n",
       "   'url': 'http://www.laidlawmedia.com',\n",
       "   'description': '#HipHop Heads & Curators 🎧 /#Marketing & #Promotion for Artists-Labels-Venues etc 🙌🏼/ Worldwide 🌍/DM for Promo 📧/ Our CEO @configa/',\n",
       "   'translator_type': 'none',\n",
       "   'protected': False,\n",
       "   'verified': False,\n",
       "   'followers_count': 19271,\n",
       "   'friends_count': 14251,\n",
       "   'listed_count': 88,\n",
       "   'favourites_count': 20931,\n",
       "   'statuses_count': 12774,\n",
       "   'created_at': 'Thu Jan 01 16:24:10 +0000 2015',\n",
       "   'utc_offset': None,\n",
       "   'time_zone': None,\n",
       "   'geo_enabled': False,\n",
       "   'lang': None,\n",
       "   'contributors_enabled': False,\n",
       "   'is_translator': False,\n",
       "   'profile_background_color': 'C0DEED',\n",
       "   'profile_background_image_url': 'http://abs.twimg.com/images/themes/theme1/bg.png',\n",
       "   'profile_background_image_url_https': 'https://abs.twimg.com/images/themes/theme1/bg.png',\n",
       "   'profile_background_tile': False,\n",
       "   'profile_link_color': '1DA1F2',\n",
       "   'profile_sidebar_border_color': 'C0DEED',\n",
       "   'profile_sidebar_fill_color': 'DDEEF6',\n",
       "   'profile_text_color': '333333',\n",
       "   'profile_use_background_image': True,\n",
       "   'profile_image_url': 'http://pbs.twimg.com/profile_images/1143550572160856064/mTGb7cfH_normal.jpg',\n",
       "   'profile_image_url_https': 'https://pbs.twimg.com/profile_images/1143550572160856064/mTGb7cfH_normal.jpg',\n",
       "   'profile_banner_url': 'https://pbs.twimg.com/profile_banners/2955042683/1556372348',\n",
       "   'default_profile': True,\n",
       "   'default_profile_image': False,\n",
       "   'following': None,\n",
       "   'follow_request_sent': None,\n",
       "   'notifications': None},\n",
       "  'geo': None,\n",
       "  'coordinates': None,\n",
       "  'place': None,\n",
       "  'contributors': None,\n",
       "  'is_quote_status': False,\n",
       "  'extended_tweet': {'full_text': 'Today in Hip Hop: Ghostface Killah released his fourth solo album The Pretty Toney Album - April 20, 2004 on Def Jam Recordings. The album art was inspired by the cover art for Doug E. Fresh’s The World’s Greatest Entertainer. What’s your favorite track on the album? 👇 https://t.co/zIKeNLaE4j',\n",
       "   'display_text_range': [0, 269],\n",
       "   'entities': {'hashtags': [],\n",
       "    'urls': [],\n",
       "    'user_mentions': [],\n",
       "    'symbols': [],\n",
       "    'media': [{'id': 1252388432875106305,\n",
       "      'id_str': '1252388432875106305',\n",
       "      'indices': [270, 293],\n",
       "      'media_url': 'http://pbs.twimg.com/media/EWFgpO5UMAEffir.jpg',\n",
       "      'media_url_https': 'https://pbs.twimg.com/media/EWFgpO5UMAEffir.jpg',\n",
       "      'url': 'https://t.co/zIKeNLaE4j',\n",
       "      'display_url': 'pic.twitter.com/zIKeNLaE4j',\n",
       "      'expanded_url': 'https://twitter.com/LaidlawMedia/status/1252388435584708608/photo/1',\n",
       "      'type': 'photo',\n",
       "      'sizes': {'thumb': {'w': 150, 'h': 150, 'resize': 'crop'},\n",
       "       'large': {'w': 2048, 'h': 2048, 'resize': 'fit'},\n",
       "       'medium': {'w': 1200, 'h': 1200, 'resize': 'fit'},\n",
       "       'small': {'w': 680, 'h': 680, 'resize': 'fit'}}}]},\n",
       "   'extended_entities': {'media': [{'id': 1252388432875106305,\n",
       "      'id_str': '1252388432875106305',\n",
       "      'indices': [270, 293],\n",
       "      'media_url': 'http://pbs.twimg.com/media/EWFgpO5UMAEffir.jpg',\n",
       "      'media_url_https': 'https://pbs.twimg.com/media/EWFgpO5UMAEffir.jpg',\n",
       "      'url': 'https://t.co/zIKeNLaE4j',\n",
       "      'display_url': 'pic.twitter.com/zIKeNLaE4j',\n",
       "      'expanded_url': 'https://twitter.com/LaidlawMedia/status/1252388435584708608/photo/1',\n",
       "      'type': 'photo',\n",
       "      'sizes': {'thumb': {'w': 150, 'h': 150, 'resize': 'crop'},\n",
       "       'large': {'w': 2048, 'h': 2048, 'resize': 'fit'},\n",
       "       'medium': {'w': 1200, 'h': 1200, 'resize': 'fit'},\n",
       "       'small': {'w': 680, 'h': 680, 'resize': 'fit'}}}]}},\n",
       "  'quote_count': 0,\n",
       "  'reply_count': 2,\n",
       "  'retweet_count': 10,\n",
       "  'favorite_count': 22,\n",
       "  'entities': {'hashtags': [],\n",
       "   'urls': [{'url': 'https://t.co/6VFSDPCMFb',\n",
       "     'expanded_url': 'https://twitter.com/i/web/status/1252388435584708608',\n",
       "     'display_url': 'twitter.com/i/web/status/1…',\n",
       "     'indices': [117, 140]}],\n",
       "   'user_mentions': [],\n",
       "   'symbols': []},\n",
       "  'favorited': False,\n",
       "  'retweeted': False,\n",
       "  'possibly_sensitive': False,\n",
       "  'filter_level': 'low',\n",
       "  'lang': 'en'},\n",
       " 'is_quote_status': False,\n",
       " 'quote_count': 0,\n",
       " 'reply_count': 0,\n",
       " 'retweet_count': 0,\n",
       " 'favorite_count': 0,\n",
       " 'entities': {'hashtags': [],\n",
       "  'urls': [],\n",
       "  'user_mentions': [{'screen_name': 'LaidlawMedia',\n",
       "    'name': 'Laidlaw Media',\n",
       "    'id': 2955042683,\n",
       "    'id_str': '2955042683',\n",
       "    'indices': [3, 16]}],\n",
       "  'symbols': []},\n",
       " 'favorited': False,\n",
       " 'retweeted': False,\n",
       " 'filter_level': 'low',\n",
       " 'lang': 'en',\n",
       " 'timestamp_ms': '1587432390889'}"
      ]
     },
     "execution_count": 4,
     "metadata": {},
     "output_type": "execute_result"
    }
   ],
   "source": [
    "tweets_data[0]"
   ]
  },
  {
   "cell_type": "code",
   "execution_count": 5,
   "metadata": {},
   "outputs": [],
   "source": [
    "def word_in_text(word, text):\n",
    "    word = word.lower()\n",
    "    text = text.lower()\n",
    "    match = re.search(word, text)\n",
    "    if match:\n",
    "        return True\n",
    "    return False"
   ]
  },
  {
   "cell_type": "code",
   "execution_count": 7,
   "metadata": {},
   "outputs": [],
   "source": [
    "art_data = []\n",
    "movies_data = []\n",
    "travel_data = []\n",
    "a, m, t = 0, 0, 0\n",
    "for item in tweets_data:\n",
    "    if word_in_text('travel', item['text']) == True and  t < 15000:\n",
    "        travel_data.append(item)\n",
    "        t += 1\n",
    "    elif word_in_text('movies', item['text']) == True and m < 15000:\n",
    "        movies_data.append(item)\n",
    "        m += 1\n",
    "    elif word_in_text('art', item['text']) == True and a < 15000:\n",
    "        art_data.append(item)\n",
    "        a += 1\n",
    "    if a >= 15000 and m >= 15000 and t >= 15000:\n",
    "        break\n",
    "new_data = art_data + movies_data + travel_data"
   ]
  },
  {
   "cell_type": "code",
   "execution_count": 8,
   "metadata": {},
   "outputs": [
    {
     "data": {
      "text/plain": [
       "45000"
      ]
     },
     "execution_count": 8,
     "metadata": {},
     "output_type": "execute_result"
    }
   ],
   "source": [
    "len(new_data)"
   ]
  },
  {
   "cell_type": "code",
   "execution_count": 35,
   "metadata": {},
   "outputs": [
    {
     "data": {
      "text/plain": [
       "15000"
      ]
     },
     "execution_count": 35,
     "metadata": {},
     "output_type": "execute_result"
    }
   ],
   "source": [
    "t"
   ]
  },
  {
   "cell_type": "code",
   "execution_count": 9,
   "metadata": {},
   "outputs": [],
   "source": [
    "tweets = pd.DataFrame()\n",
    "tweets['text'] = list([tweet['text'] for tweet in new_data])\n",
    "tweets['art'] = tweets['text'].apply(lambda tweet: word_in_text('art', tweet))\n",
    "tweets['movies'] = tweets['text'].apply(lambda tweet: word_in_text('movies', tweet))\n",
    "tweets['travel'] = tweets['text'].apply(lambda tweet: word_in_text('travel', tweet))"
   ]
  },
  {
   "cell_type": "code",
   "execution_count": 10,
   "metadata": {},
   "outputs": [
    {
     "name": "stdout",
     "output_type": "stream",
     "text": [
      "20213\n",
      "15017\n",
      "15000\n"
     ]
    }
   ],
   "source": [
    "print(tweets['art'].value_counts()[True])\n",
    "print(tweets['movies'].value_counts()[True])\n",
    "print(tweets['travel'].value_counts()[True])"
   ]
  },
  {
   "cell_type": "code",
   "execution_count": 12,
   "metadata": {},
   "outputs": [],
   "source": [
    "with open('data.txt', 'w') as f:\n",
    "    json.dump(new_data, f)"
   ]
  },
  {
   "cell_type": "code",
   "execution_count": null,
   "metadata": {},
   "outputs": [],
   "source": []
  },
  {
   "cell_type": "code",
   "execution_count": 15,
   "metadata": {},
   "outputs": [],
   "source": [
    "from pymongo import MongoClient"
   ]
  },
  {
   "cell_type": "code",
   "execution_count": null,
   "metadata": {},
   "outputs": [],
   "source": []
  },
  {
   "cell_type": "code",
   "execution_count": null,
   "metadata": {},
   "outputs": [],
   "source": []
  },
  {
   "cell_type": "code",
   "execution_count": null,
   "metadata": {},
   "outputs": [],
   "source": []
  }
 ],
 "metadata": {
  "kernelspec": {
   "display_name": "Python 3",
   "language": "python",
   "name": "python3"
  },
  "language_info": {
   "codemirror_mode": {
    "name": "ipython",
    "version": 3
   },
   "file_extension": ".py",
   "mimetype": "text/x-python",
   "name": "python",
   "nbconvert_exporter": "python",
   "pygments_lexer": "ipython3",
   "version": "3.6.10"
  }
 },
 "nbformat": 4,
 "nbformat_minor": 4
}
