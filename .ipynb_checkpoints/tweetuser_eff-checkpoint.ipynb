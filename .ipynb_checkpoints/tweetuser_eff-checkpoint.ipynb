{
 "cells": [
  {
   "cell_type": "code",
   "execution_count": 1,
   "metadata": {},
   "outputs": [],
   "source": [
    "import pymysql\n",
    "import pandas as pd"
   ]
  },
  {
   "cell_type": "code",
   "execution_count": 31,
   "metadata": {},
   "outputs": [],
   "source": [
    "db = pymysql.connect(host='projectuser.cjnnbmy31uit.us-east-2.rds.amazonaws.com',\n",
    "                     user='admin',\n",
    "                     passwd='4ULstfSQwoIkWzDz3Qd6',\n",
    "                     port=3306,\n",
    "                     charset='utf8',\n",
    "                     db='tweetuser',\n",
    "                     cursorclass=pymysql.cursors.DictCursor)"
   ]
  },
  {
   "cell_type": "code",
   "execution_count": 3,
   "metadata": {},
   "outputs": [
    {
     "name": "stdout",
     "output_type": "stream",
     "text": [
      "no index time cost 0.22838783264160156 s\n",
      "{'index': 75184, 'contributors_enabled': 0, 'created_at': 'Tue Nov 18 23:33:32 +0000 2008', 'default_profile': 0, 'default_profile_image': 0, 'description': 'Você vai ser feliz mas primeiro a vida vai te ensinar a ser forte', 'favourites_count': 2093, 'follow_request_sent': None, 'followers_count': 1421, 'following': None, 'friends_count': 1597, 'geo_enabled': 0, 'id': 17474481, 'id_str': '17474481', 'is_translator': 0, 'lang': None, 'listed_count': 79, 'location': 'Earth', 'name': 'Du', 'notifications': None, 'profile_background_color': '1A1B1F', 'profile_background_image_url': 'http://abs.twimg.com/images/themes/theme9/bg.gif', 'profile_background_image_url_https': 'https://abs.twimg.com/images/themes/theme9/bg.gif', 'profile_background_tile': 0, 'profile_banner_url': 'https://pbs.twimg.com/profile_banners/17474481/1451443827', 'profile_image_url': 'http://pbs.twimg.com/profile_images/868944611280113666/3UwmjIa2_normal.jpg', 'profile_image_url_https': 'https://pbs.twimg.com/profile_images/868944611280113666/3UwmjIa2_normal.jpg', 'profile_link_color': '2FC2EF', 'profile_sidebar_border_color': '181A1E', 'profile_sidebar_fill_color': '252429', 'profile_text_color': '666666', 'profile_use_background_image': 1, 'protected': 0, 'screen_name': 'bkbone', 'statuses_count': 78847, 'time_zone': None, 'translator_type': 'none', 'url': None, 'utc_offset': None, 'verified': 0}\n",
      "{'index': 76095, 'contributors_enabled': 0, 'created_at': 'Sat Sep 06 04:50:01 +0000 2014', 'default_profile': 1, 'default_profile_image': 0, 'description': 'high flight risk', 'favourites_count': 14832, 'follow_request_sent': None, 'followers_count': 56, 'following': None, 'friends_count': 55, 'geo_enabled': 0, 'id': 2793125070, 'id_str': '2793125070', 'is_translator': 0, 'lang': None, 'listed_count': 2, 'location': None, 'name': 'Du', 'notifications': None, 'profile_background_color': 'C0DEED', 'profile_background_image_url': 'http://abs.twimg.com/images/themes/theme1/bg.png', 'profile_background_image_url_https': 'https://abs.twimg.com/images/themes/theme1/bg.png', 'profile_background_tile': 0, 'profile_banner_url': 'https://pbs.twimg.com/profile_banners/2793125070/1497057885', 'profile_image_url': 'http://pbs.twimg.com/profile_images/1041026707702968320/i0QxOC6u_normal.jpg', 'profile_image_url_https': 'https://pbs.twimg.com/profile_images/1041026707702968320/i0QxOC6u_normal.jpg', 'profile_link_color': '1DA1F2', 'profile_sidebar_border_color': 'C0DEED', 'profile_sidebar_fill_color': 'DDEEF6', 'profile_text_color': '333333', 'profile_use_background_image': 1, 'protected': 0, 'screen_name': 'thuydut', 'statuses_count': 2476, 'time_zone': None, 'translator_type': 'none', 'url': 'https://www.instagram.com/thuydutran/', 'utc_offset': None, 'verified': 0}\n",
      "{'index': 91567, 'contributors_enabled': 0, 'created_at': 'Sat Dec 07 12:29:31 +0000 2019', 'default_profile': 1, 'default_profile_image': 0, 'description': '[ex @edhdxx] banido por causa da filha da puta homofobica da Nicki Minaj', 'favourites_count': 6554, 'follow_request_sent': None, 'followers_count': 103, 'following': None, 'friends_count': 293, 'geo_enabled': 0, 'id': 1203290401182011393, 'id_str': '1203290401182011393', 'is_translator': 0, 'lang': None, 'listed_count': 0, 'location': None, 'name': 'du', 'notifications': None, 'profile_background_color': 'F5F8FA', 'profile_background_image_url': '', 'profile_background_image_url_https': '', 'profile_background_tile': 0, 'profile_banner_url': 'https://pbs.twimg.com/profile_banners/1203290401182011393/1584758648', 'profile_image_url': 'http://pbs.twimg.com/profile_images/1230325458132258816/sCJ4KWfo_normal.jpg', 'profile_image_url_https': 'https://pbs.twimg.com/profile_images/1230325458132258816/sCJ4KWfo_normal.jpg', 'profile_link_color': '1DA1F2', 'profile_sidebar_border_color': 'C0DEED', 'profile_sidebar_fill_color': 'DDEEF6', 'profile_text_color': '333333', 'profile_use_background_image': 1, 'protected': 0, 'screen_name': 'edhdex', 'statuses_count': 6472, 'time_zone': None, 'translator_type': 'none', 'url': None, 'utc_offset': None, 'verified': 0}\n",
      "{'index': 140000, 'contributors_enabled': 0, 'created_at': 'Mon Apr 06 22:55:55 +0000 2020', 'default_profile': 1, 'default_profile_image': 0, 'description': 'siga esta conta sabendo que pode se decepcionar a qualquer momento | justin bieber ?? ivy', 'favourites_count': 1836, 'follow_request_sent': None, 'followers_count': 47, 'following': None, 'friends_count': 152, 'geo_enabled': 0, 'id': 1247296720012279810, 'id_str': '1247296720012279810', 'is_translator': 0, 'lang': None, 'listed_count': 0, 'location': 'Grindr ', 'name': 'du', 'notifications': None, 'profile_background_color': 'F5F8FA', 'profile_background_image_url': '', 'profile_background_image_url_https': '', 'profile_background_tile': 0, 'profile_banner_url': 'https://pbs.twimg.com/profile_banners/1247296720012279810/1587410721', 'profile_image_url': 'http://pbs.twimg.com/profile_images/1252317455634104324/xjip2w1v_normal.jpg', 'profile_image_url_https': 'https://pbs.twimg.com/profile_images/1252317455634104324/xjip2w1v_normal.jpg', 'profile_link_color': '1DA1F2', 'profile_sidebar_border_color': 'C0DEED', 'profile_sidebar_fill_color': 'DDEEF6', 'profile_text_color': '333333', 'profile_use_background_image': 1, 'protected': 0, 'screen_name': 'bangayroo', 'statuses_count': 2083, 'time_zone': None, 'translator_type': 'none', 'url': 'http://www.webdivabangayroo.com', 'utc_offset': None, 'verified': 0}\n"
     ]
    }
   ],
   "source": [
    "import time\n",
    "time_start=time.time()\n",
    "cursor=db.cursor()\n",
    "sql = \"select * from user where name='du'\"\n",
    "cursor.execute(sql)\n",
    "rows = cursor.fetchall()\n",
    "time_end=time.time()\n",
    "print('no index time cost',time_end-time_start,'s')\n",
    "for row in rows:\n",
    "    print(row)"
   ]
  },
  {
   "cell_type": "code",
   "execution_count": null,
   "metadata": {},
   "outputs": [],
   "source": [
    "cursor=db.cursor()\n",
    "sql = \"CREATE INDEX index1 ON user(name(20))\"\n",
    "cursor.execute(sql)\n",
    "db.commit()"
   ]
  },
  {
   "cell_type": "code",
   "execution_count": 8,
   "metadata": {},
   "outputs": [
    {
     "name": "stdout",
     "output_type": "stream",
     "text": [
      "no index time cost 0.049867868423461914 s\n",
      "{'index': 75184, 'contributors_enabled': 0, 'created_at': 'Tue Nov 18 23:33:32 +0000 2008', 'default_profile': 0, 'default_profile_image': 0, 'description': 'Você vai ser feliz mas primeiro a vida vai te ensinar a ser forte', 'favourites_count': 2093, 'follow_request_sent': None, 'followers_count': 1421, 'following': None, 'friends_count': 1597, 'geo_enabled': 0, 'id': 17474481, 'id_str': '17474481', 'is_translator': 0, 'lang': None, 'listed_count': 79, 'location': 'Earth', 'name': 'Du', 'notifications': None, 'profile_background_color': '1A1B1F', 'profile_background_image_url': 'http://abs.twimg.com/images/themes/theme9/bg.gif', 'profile_background_image_url_https': 'https://abs.twimg.com/images/themes/theme9/bg.gif', 'profile_background_tile': 0, 'profile_banner_url': 'https://pbs.twimg.com/profile_banners/17474481/1451443827', 'profile_image_url': 'http://pbs.twimg.com/profile_images/868944611280113666/3UwmjIa2_normal.jpg', 'profile_image_url_https': 'https://pbs.twimg.com/profile_images/868944611280113666/3UwmjIa2_normal.jpg', 'profile_link_color': '2FC2EF', 'profile_sidebar_border_color': '181A1E', 'profile_sidebar_fill_color': '252429', 'profile_text_color': '666666', 'profile_use_background_image': 1, 'protected': 0, 'screen_name': 'bkbone', 'statuses_count': 78847, 'time_zone': None, 'translator_type': 'none', 'url': None, 'utc_offset': None, 'verified': 0}\n",
      "{'index': 76095, 'contributors_enabled': 0, 'created_at': 'Sat Sep 06 04:50:01 +0000 2014', 'default_profile': 1, 'default_profile_image': 0, 'description': 'high flight risk', 'favourites_count': 14832, 'follow_request_sent': None, 'followers_count': 56, 'following': None, 'friends_count': 55, 'geo_enabled': 0, 'id': 2793125070, 'id_str': '2793125070', 'is_translator': 0, 'lang': None, 'listed_count': 2, 'location': None, 'name': 'Du', 'notifications': None, 'profile_background_color': 'C0DEED', 'profile_background_image_url': 'http://abs.twimg.com/images/themes/theme1/bg.png', 'profile_background_image_url_https': 'https://abs.twimg.com/images/themes/theme1/bg.png', 'profile_background_tile': 0, 'profile_banner_url': 'https://pbs.twimg.com/profile_banners/2793125070/1497057885', 'profile_image_url': 'http://pbs.twimg.com/profile_images/1041026707702968320/i0QxOC6u_normal.jpg', 'profile_image_url_https': 'https://pbs.twimg.com/profile_images/1041026707702968320/i0QxOC6u_normal.jpg', 'profile_link_color': '1DA1F2', 'profile_sidebar_border_color': 'C0DEED', 'profile_sidebar_fill_color': 'DDEEF6', 'profile_text_color': '333333', 'profile_use_background_image': 1, 'protected': 0, 'screen_name': 'thuydut', 'statuses_count': 2476, 'time_zone': None, 'translator_type': 'none', 'url': 'https://www.instagram.com/thuydutran/', 'utc_offset': None, 'verified': 0}\n",
      "{'index': 91567, 'contributors_enabled': 0, 'created_at': 'Sat Dec 07 12:29:31 +0000 2019', 'default_profile': 1, 'default_profile_image': 0, 'description': '[ex @edhdxx] banido por causa da filha da puta homofobica da Nicki Minaj', 'favourites_count': 6554, 'follow_request_sent': None, 'followers_count': 103, 'following': None, 'friends_count': 293, 'geo_enabled': 0, 'id': 1203290401182011393, 'id_str': '1203290401182011393', 'is_translator': 0, 'lang': None, 'listed_count': 0, 'location': None, 'name': 'du', 'notifications': None, 'profile_background_color': 'F5F8FA', 'profile_background_image_url': '', 'profile_background_image_url_https': '', 'profile_background_tile': 0, 'profile_banner_url': 'https://pbs.twimg.com/profile_banners/1203290401182011393/1584758648', 'profile_image_url': 'http://pbs.twimg.com/profile_images/1230325458132258816/sCJ4KWfo_normal.jpg', 'profile_image_url_https': 'https://pbs.twimg.com/profile_images/1230325458132258816/sCJ4KWfo_normal.jpg', 'profile_link_color': '1DA1F2', 'profile_sidebar_border_color': 'C0DEED', 'profile_sidebar_fill_color': 'DDEEF6', 'profile_text_color': '333333', 'profile_use_background_image': 1, 'protected': 0, 'screen_name': 'edhdex', 'statuses_count': 6472, 'time_zone': None, 'translator_type': 'none', 'url': None, 'utc_offset': None, 'verified': 0}\n",
      "{'index': 140000, 'contributors_enabled': 0, 'created_at': 'Mon Apr 06 22:55:55 +0000 2020', 'default_profile': 1, 'default_profile_image': 0, 'description': 'siga esta conta sabendo que pode se decepcionar a qualquer momento | justin bieber ?? ivy', 'favourites_count': 1836, 'follow_request_sent': None, 'followers_count': 47, 'following': None, 'friends_count': 152, 'geo_enabled': 0, 'id': 1247296720012279810, 'id_str': '1247296720012279810', 'is_translator': 0, 'lang': None, 'listed_count': 0, 'location': 'Grindr ', 'name': 'du', 'notifications': None, 'profile_background_color': 'F5F8FA', 'profile_background_image_url': '', 'profile_background_image_url_https': '', 'profile_background_tile': 0, 'profile_banner_url': 'https://pbs.twimg.com/profile_banners/1247296720012279810/1587410721', 'profile_image_url': 'http://pbs.twimg.com/profile_images/1252317455634104324/xjip2w1v_normal.jpg', 'profile_image_url_https': 'https://pbs.twimg.com/profile_images/1252317455634104324/xjip2w1v_normal.jpg', 'profile_link_color': '1DA1F2', 'profile_sidebar_border_color': 'C0DEED', 'profile_sidebar_fill_color': 'DDEEF6', 'profile_text_color': '333333', 'profile_use_background_image': 1, 'protected': 0, 'screen_name': 'bangayroo', 'statuses_count': 2083, 'time_zone': None, 'translator_type': 'none', 'url': 'http://www.webdivabangayroo.com', 'utc_offset': None, 'verified': 0}\n"
     ]
    }
   ],
   "source": [
    "import time\n",
    "time_start=time.time()\n",
    "cursor=db.cursor()\n",
    "sql = \"select * from user where name='du'\"\n",
    "cursor.execute(sql)\n",
    "rows = cursor.fetchall()\n",
    "time_end=time.time()\n",
    "print('no index time cost',time_end-time_start,'s')\n",
    "for row in rows:\n",
    "    print(row)"
   ]
  },
  {
   "cell_type": "code",
   "execution_count": 9,
   "metadata": {},
   "outputs": [],
   "source": [
    "cursor=db.cursor()\n",
    "sql = \"CREATE INDEX index2 ON user(followers_count,friends_count,favourites_count)\"\n",
    "cursor.execute(sql)\n",
    "db.commit()"
   ]
  },
  {
   "cell_type": "code",
   "execution_count": 11,
   "metadata": {},
   "outputs": [
    {
     "name": "stdout",
     "output_type": "stream",
     "text": [
      "{'Variable_name': 'have_query_cache', 'Value': 'YES'}\n",
      "{'Variable_name': 'query_cache_limit', 'Value': '1048576'}\n",
      "{'Variable_name': 'query_cache_min_res_unit', 'Value': '4096'}\n",
      "{'Variable_name': 'query_cache_size', 'Value': '1048576'}\n",
      "{'Variable_name': 'query_cache_type', 'Value': 'OFF'}\n",
      "{'Variable_name': 'query_cache_wlock_invalidate', 'Value': 'OFF'}\n"
     ]
    }
   ],
   "source": [
    "cursor=db.cursor()\n",
    "sql = \"show variables like '%query_cache%'\"\n",
    "cursor.execute(sql)\n",
    "rows = cursor.fetchall()\n",
    "for row in rows:\n",
    "    print(row)"
   ]
  },
  {
   "cell_type": "code",
   "execution_count": 26,
   "metadata": {},
   "outputs": [
    {
     "name": "stderr",
     "output_type": "stream",
     "text": [
      "D:\\notebook\\lib\\site-packages\\pymysql\\cursors.py:329: Warning: (1287, 'Using GRANT for creating new user is deprecated and will be removed in future release. Create new user with CREATE USER statement.')\n",
      "  self._do_get_result()\n"
     ]
    },
    {
     "data": {
      "text/plain": [
       "0"
      ]
     },
     "execution_count": 26,
     "metadata": {},
     "output_type": "execute_result"
    }
   ],
   "source": [
    "cursor=db.cursor()\n",
    "sql = \"GRANT ALL ON `%`.* TO admin@'projectuser.cjnnbmy31uit.us-east-2.rds.amazonaws.com' IDENTIFIED BY '4ULstfSQwoIkWzDz3Qd6'\"\n",
    "cursor.execute(sql)"
   ]
  },
  {
   "cell_type": "code",
   "execution_count": 27,
   "metadata": {
    "scrolled": true
   },
   "outputs": [
    {
     "ename": "InternalError",
     "evalue": "(1227, 'Access denied; you need (at least one of) the SUPER privilege(s) for this operation')",
     "output_type": "error",
     "traceback": [
      "\u001b[1;31m---------------------------------------------------------------------------\u001b[0m",
      "\u001b[1;31mInternalError\u001b[0m                             Traceback (most recent call last)",
      "\u001b[1;32m<ipython-input-27-27bdfc15f44a>\u001b[0m in \u001b[0;36m<module>\u001b[1;34m\u001b[0m\n\u001b[0;32m      1\u001b[0m \u001b[0msql\u001b[0m \u001b[1;33m=\u001b[0m \u001b[1;34m\"set global query_cache_type = ON\"\u001b[0m\u001b[1;33m\u001b[0m\u001b[1;33m\u001b[0m\u001b[0m\n\u001b[1;32m----> 2\u001b[1;33m \u001b[0mcursor\u001b[0m\u001b[1;33m.\u001b[0m\u001b[0mexecute\u001b[0m\u001b[1;33m(\u001b[0m\u001b[0msql\u001b[0m\u001b[1;33m)\u001b[0m\u001b[1;33m\u001b[0m\u001b[1;33m\u001b[0m\u001b[0m\n\u001b[0m\u001b[0;32m      3\u001b[0m \u001b[0msql\u001b[0m \u001b[1;33m=\u001b[0m \u001b[1;34m\"show variables like '%query_cache%'\"\u001b[0m\u001b[1;33m\u001b[0m\u001b[1;33m\u001b[0m\u001b[0m\n\u001b[0;32m      4\u001b[0m \u001b[0mcursor\u001b[0m\u001b[1;33m.\u001b[0m\u001b[0mexecute\u001b[0m\u001b[1;33m(\u001b[0m\u001b[0msql\u001b[0m\u001b[1;33m)\u001b[0m\u001b[1;33m\u001b[0m\u001b[1;33m\u001b[0m\u001b[0m\n\u001b[0;32m      5\u001b[0m \u001b[0mrows\u001b[0m \u001b[1;33m=\u001b[0m \u001b[0mcursor\u001b[0m\u001b[1;33m.\u001b[0m\u001b[0mfetchall\u001b[0m\u001b[1;33m(\u001b[0m\u001b[1;33m)\u001b[0m\u001b[1;33m\u001b[0m\u001b[1;33m\u001b[0m\u001b[0m\n",
      "\u001b[1;32mD:\\notebook\\lib\\site-packages\\pymysql\\cursors.py\u001b[0m in \u001b[0;36mexecute\u001b[1;34m(self, query, args)\u001b[0m\n\u001b[0;32m    168\u001b[0m         \u001b[0mquery\u001b[0m \u001b[1;33m=\u001b[0m \u001b[0mself\u001b[0m\u001b[1;33m.\u001b[0m\u001b[0mmogrify\u001b[0m\u001b[1;33m(\u001b[0m\u001b[0mquery\u001b[0m\u001b[1;33m,\u001b[0m \u001b[0margs\u001b[0m\u001b[1;33m)\u001b[0m\u001b[1;33m\u001b[0m\u001b[1;33m\u001b[0m\u001b[0m\n\u001b[0;32m    169\u001b[0m \u001b[1;33m\u001b[0m\u001b[0m\n\u001b[1;32m--> 170\u001b[1;33m         \u001b[0mresult\u001b[0m \u001b[1;33m=\u001b[0m \u001b[0mself\u001b[0m\u001b[1;33m.\u001b[0m\u001b[0m_query\u001b[0m\u001b[1;33m(\u001b[0m\u001b[0mquery\u001b[0m\u001b[1;33m)\u001b[0m\u001b[1;33m\u001b[0m\u001b[1;33m\u001b[0m\u001b[0m\n\u001b[0m\u001b[0;32m    171\u001b[0m         \u001b[0mself\u001b[0m\u001b[1;33m.\u001b[0m\u001b[0m_executed\u001b[0m \u001b[1;33m=\u001b[0m \u001b[0mquery\u001b[0m\u001b[1;33m\u001b[0m\u001b[1;33m\u001b[0m\u001b[0m\n\u001b[0;32m    172\u001b[0m         \u001b[1;32mreturn\u001b[0m \u001b[0mresult\u001b[0m\u001b[1;33m\u001b[0m\u001b[1;33m\u001b[0m\u001b[0m\n",
      "\u001b[1;32mD:\\notebook\\lib\\site-packages\\pymysql\\cursors.py\u001b[0m in \u001b[0;36m_query\u001b[1;34m(self, q)\u001b[0m\n\u001b[0;32m    326\u001b[0m         \u001b[0mself\u001b[0m\u001b[1;33m.\u001b[0m\u001b[0m_last_executed\u001b[0m \u001b[1;33m=\u001b[0m \u001b[0mq\u001b[0m\u001b[1;33m\u001b[0m\u001b[1;33m\u001b[0m\u001b[0m\n\u001b[0;32m    327\u001b[0m         \u001b[0mself\u001b[0m\u001b[1;33m.\u001b[0m\u001b[0m_clear_result\u001b[0m\u001b[1;33m(\u001b[0m\u001b[1;33m)\u001b[0m\u001b[1;33m\u001b[0m\u001b[1;33m\u001b[0m\u001b[0m\n\u001b[1;32m--> 328\u001b[1;33m         \u001b[0mconn\u001b[0m\u001b[1;33m.\u001b[0m\u001b[0mquery\u001b[0m\u001b[1;33m(\u001b[0m\u001b[0mq\u001b[0m\u001b[1;33m)\u001b[0m\u001b[1;33m\u001b[0m\u001b[1;33m\u001b[0m\u001b[0m\n\u001b[0m\u001b[0;32m    329\u001b[0m         \u001b[0mself\u001b[0m\u001b[1;33m.\u001b[0m\u001b[0m_do_get_result\u001b[0m\u001b[1;33m(\u001b[0m\u001b[1;33m)\u001b[0m\u001b[1;33m\u001b[0m\u001b[1;33m\u001b[0m\u001b[0m\n\u001b[0;32m    330\u001b[0m         \u001b[1;32mreturn\u001b[0m \u001b[0mself\u001b[0m\u001b[1;33m.\u001b[0m\u001b[0mrowcount\u001b[0m\u001b[1;33m\u001b[0m\u001b[1;33m\u001b[0m\u001b[0m\n",
      "\u001b[1;32mD:\\notebook\\lib\\site-packages\\pymysql\\connections.py\u001b[0m in \u001b[0;36mquery\u001b[1;34m(self, sql, unbuffered)\u001b[0m\n\u001b[0;32m    515\u001b[0m                 \u001b[0msql\u001b[0m \u001b[1;33m=\u001b[0m \u001b[0msql\u001b[0m\u001b[1;33m.\u001b[0m\u001b[0mencode\u001b[0m\u001b[1;33m(\u001b[0m\u001b[0mself\u001b[0m\u001b[1;33m.\u001b[0m\u001b[0mencoding\u001b[0m\u001b[1;33m,\u001b[0m \u001b[1;34m'surrogateescape'\u001b[0m\u001b[1;33m)\u001b[0m\u001b[1;33m\u001b[0m\u001b[1;33m\u001b[0m\u001b[0m\n\u001b[0;32m    516\u001b[0m         \u001b[0mself\u001b[0m\u001b[1;33m.\u001b[0m\u001b[0m_execute_command\u001b[0m\u001b[1;33m(\u001b[0m\u001b[0mCOMMAND\u001b[0m\u001b[1;33m.\u001b[0m\u001b[0mCOM_QUERY\u001b[0m\u001b[1;33m,\u001b[0m \u001b[0msql\u001b[0m\u001b[1;33m)\u001b[0m\u001b[1;33m\u001b[0m\u001b[1;33m\u001b[0m\u001b[0m\n\u001b[1;32m--> 517\u001b[1;33m         \u001b[0mself\u001b[0m\u001b[1;33m.\u001b[0m\u001b[0m_affected_rows\u001b[0m \u001b[1;33m=\u001b[0m \u001b[0mself\u001b[0m\u001b[1;33m.\u001b[0m\u001b[0m_read_query_result\u001b[0m\u001b[1;33m(\u001b[0m\u001b[0munbuffered\u001b[0m\u001b[1;33m=\u001b[0m\u001b[0munbuffered\u001b[0m\u001b[1;33m)\u001b[0m\u001b[1;33m\u001b[0m\u001b[1;33m\u001b[0m\u001b[0m\n\u001b[0m\u001b[0;32m    518\u001b[0m         \u001b[1;32mreturn\u001b[0m \u001b[0mself\u001b[0m\u001b[1;33m.\u001b[0m\u001b[0m_affected_rows\u001b[0m\u001b[1;33m\u001b[0m\u001b[1;33m\u001b[0m\u001b[0m\n\u001b[0;32m    519\u001b[0m \u001b[1;33m\u001b[0m\u001b[0m\n",
      "\u001b[1;32mD:\\notebook\\lib\\site-packages\\pymysql\\connections.py\u001b[0m in \u001b[0;36m_read_query_result\u001b[1;34m(self, unbuffered)\u001b[0m\n\u001b[0;32m    730\u001b[0m         \u001b[1;32melse\u001b[0m\u001b[1;33m:\u001b[0m\u001b[1;33m\u001b[0m\u001b[1;33m\u001b[0m\u001b[0m\n\u001b[0;32m    731\u001b[0m             \u001b[0mresult\u001b[0m \u001b[1;33m=\u001b[0m \u001b[0mMySQLResult\u001b[0m\u001b[1;33m(\u001b[0m\u001b[0mself\u001b[0m\u001b[1;33m)\u001b[0m\u001b[1;33m\u001b[0m\u001b[1;33m\u001b[0m\u001b[0m\n\u001b[1;32m--> 732\u001b[1;33m             \u001b[0mresult\u001b[0m\u001b[1;33m.\u001b[0m\u001b[0mread\u001b[0m\u001b[1;33m(\u001b[0m\u001b[1;33m)\u001b[0m\u001b[1;33m\u001b[0m\u001b[1;33m\u001b[0m\u001b[0m\n\u001b[0m\u001b[0;32m    733\u001b[0m         \u001b[0mself\u001b[0m\u001b[1;33m.\u001b[0m\u001b[0m_result\u001b[0m \u001b[1;33m=\u001b[0m \u001b[0mresult\u001b[0m\u001b[1;33m\u001b[0m\u001b[1;33m\u001b[0m\u001b[0m\n\u001b[0;32m    734\u001b[0m         \u001b[1;32mif\u001b[0m \u001b[0mresult\u001b[0m\u001b[1;33m.\u001b[0m\u001b[0mserver_status\u001b[0m \u001b[1;32mis\u001b[0m \u001b[1;32mnot\u001b[0m \u001b[1;32mNone\u001b[0m\u001b[1;33m:\u001b[0m\u001b[1;33m\u001b[0m\u001b[1;33m\u001b[0m\u001b[0m\n",
      "\u001b[1;32mD:\\notebook\\lib\\site-packages\\pymysql\\connections.py\u001b[0m in \u001b[0;36mread\u001b[1;34m(self)\u001b[0m\n\u001b[0;32m   1073\u001b[0m     \u001b[1;32mdef\u001b[0m \u001b[0mread\u001b[0m\u001b[1;33m(\u001b[0m\u001b[0mself\u001b[0m\u001b[1;33m)\u001b[0m\u001b[1;33m:\u001b[0m\u001b[1;33m\u001b[0m\u001b[1;33m\u001b[0m\u001b[0m\n\u001b[0;32m   1074\u001b[0m         \u001b[1;32mtry\u001b[0m\u001b[1;33m:\u001b[0m\u001b[1;33m\u001b[0m\u001b[1;33m\u001b[0m\u001b[0m\n\u001b[1;32m-> 1075\u001b[1;33m             \u001b[0mfirst_packet\u001b[0m \u001b[1;33m=\u001b[0m \u001b[0mself\u001b[0m\u001b[1;33m.\u001b[0m\u001b[0mconnection\u001b[0m\u001b[1;33m.\u001b[0m\u001b[0m_read_packet\u001b[0m\u001b[1;33m(\u001b[0m\u001b[1;33m)\u001b[0m\u001b[1;33m\u001b[0m\u001b[1;33m\u001b[0m\u001b[0m\n\u001b[0m\u001b[0;32m   1076\u001b[0m \u001b[1;33m\u001b[0m\u001b[0m\n\u001b[0;32m   1077\u001b[0m             \u001b[1;32mif\u001b[0m \u001b[0mfirst_packet\u001b[0m\u001b[1;33m.\u001b[0m\u001b[0mis_ok_packet\u001b[0m\u001b[1;33m(\u001b[0m\u001b[1;33m)\u001b[0m\u001b[1;33m:\u001b[0m\u001b[1;33m\u001b[0m\u001b[1;33m\u001b[0m\u001b[0m\n",
      "\u001b[1;32mD:\\notebook\\lib\\site-packages\\pymysql\\connections.py\u001b[0m in \u001b[0;36m_read_packet\u001b[1;34m(self, packet_type)\u001b[0m\n\u001b[0;32m    682\u001b[0m \u001b[1;33m\u001b[0m\u001b[0m\n\u001b[0;32m    683\u001b[0m         \u001b[0mpacket\u001b[0m \u001b[1;33m=\u001b[0m \u001b[0mpacket_type\u001b[0m\u001b[1;33m(\u001b[0m\u001b[0mbuff\u001b[0m\u001b[1;33m,\u001b[0m \u001b[0mself\u001b[0m\u001b[1;33m.\u001b[0m\u001b[0mencoding\u001b[0m\u001b[1;33m)\u001b[0m\u001b[1;33m\u001b[0m\u001b[1;33m\u001b[0m\u001b[0m\n\u001b[1;32m--> 684\u001b[1;33m         \u001b[0mpacket\u001b[0m\u001b[1;33m.\u001b[0m\u001b[0mcheck_error\u001b[0m\u001b[1;33m(\u001b[0m\u001b[1;33m)\u001b[0m\u001b[1;33m\u001b[0m\u001b[1;33m\u001b[0m\u001b[0m\n\u001b[0m\u001b[0;32m    685\u001b[0m         \u001b[1;32mreturn\u001b[0m \u001b[0mpacket\u001b[0m\u001b[1;33m\u001b[0m\u001b[1;33m\u001b[0m\u001b[0m\n\u001b[0;32m    686\u001b[0m \u001b[1;33m\u001b[0m\u001b[0m\n",
      "\u001b[1;32mD:\\notebook\\lib\\site-packages\\pymysql\\protocol.py\u001b[0m in \u001b[0;36mcheck_error\u001b[1;34m(self)\u001b[0m\n\u001b[0;32m    218\u001b[0m             \u001b[0merrno\u001b[0m \u001b[1;33m=\u001b[0m \u001b[0mself\u001b[0m\u001b[1;33m.\u001b[0m\u001b[0mread_uint16\u001b[0m\u001b[1;33m(\u001b[0m\u001b[1;33m)\u001b[0m\u001b[1;33m\u001b[0m\u001b[1;33m\u001b[0m\u001b[0m\n\u001b[0;32m    219\u001b[0m             \u001b[1;32mif\u001b[0m \u001b[0mDEBUG\u001b[0m\u001b[1;33m:\u001b[0m \u001b[0mprint\u001b[0m\u001b[1;33m(\u001b[0m\u001b[1;34m\"errno =\"\u001b[0m\u001b[1;33m,\u001b[0m \u001b[0merrno\u001b[0m\u001b[1;33m)\u001b[0m\u001b[1;33m\u001b[0m\u001b[1;33m\u001b[0m\u001b[0m\n\u001b[1;32m--> 220\u001b[1;33m             \u001b[0merr\u001b[0m\u001b[1;33m.\u001b[0m\u001b[0mraise_mysql_exception\u001b[0m\u001b[1;33m(\u001b[0m\u001b[0mself\u001b[0m\u001b[1;33m.\u001b[0m\u001b[0m_data\u001b[0m\u001b[1;33m)\u001b[0m\u001b[1;33m\u001b[0m\u001b[1;33m\u001b[0m\u001b[0m\n\u001b[0m\u001b[0;32m    221\u001b[0m \u001b[1;33m\u001b[0m\u001b[0m\n\u001b[0;32m    222\u001b[0m     \u001b[1;32mdef\u001b[0m \u001b[0mdump\u001b[0m\u001b[1;33m(\u001b[0m\u001b[0mself\u001b[0m\u001b[1;33m)\u001b[0m\u001b[1;33m:\u001b[0m\u001b[1;33m\u001b[0m\u001b[1;33m\u001b[0m\u001b[0m\n",
      "\u001b[1;32mD:\\notebook\\lib\\site-packages\\pymysql\\err.py\u001b[0m in \u001b[0;36mraise_mysql_exception\u001b[1;34m(data)\u001b[0m\n\u001b[0;32m    107\u001b[0m         \u001b[0merrval\u001b[0m \u001b[1;33m=\u001b[0m \u001b[0mdata\u001b[0m\u001b[1;33m[\u001b[0m\u001b[1;36m3\u001b[0m\u001b[1;33m:\u001b[0m\u001b[1;33m]\u001b[0m\u001b[1;33m.\u001b[0m\u001b[0mdecode\u001b[0m\u001b[1;33m(\u001b[0m\u001b[1;34m'utf-8'\u001b[0m\u001b[1;33m,\u001b[0m \u001b[1;34m'replace'\u001b[0m\u001b[1;33m)\u001b[0m\u001b[1;33m\u001b[0m\u001b[1;33m\u001b[0m\u001b[0m\n\u001b[0;32m    108\u001b[0m     \u001b[0merrorclass\u001b[0m \u001b[1;33m=\u001b[0m \u001b[0merror_map\u001b[0m\u001b[1;33m.\u001b[0m\u001b[0mget\u001b[0m\u001b[1;33m(\u001b[0m\u001b[0merrno\u001b[0m\u001b[1;33m,\u001b[0m \u001b[0mInternalError\u001b[0m\u001b[1;33m)\u001b[0m\u001b[1;33m\u001b[0m\u001b[1;33m\u001b[0m\u001b[0m\n\u001b[1;32m--> 109\u001b[1;33m     \u001b[1;32mraise\u001b[0m \u001b[0merrorclass\u001b[0m\u001b[1;33m(\u001b[0m\u001b[0merrno\u001b[0m\u001b[1;33m,\u001b[0m \u001b[0merrval\u001b[0m\u001b[1;33m)\u001b[0m\u001b[1;33m\u001b[0m\u001b[1;33m\u001b[0m\u001b[0m\n\u001b[0m",
      "\u001b[1;31mInternalError\u001b[0m: (1227, 'Access denied; you need (at least one of) the SUPER privilege(s) for this operation')"
     ]
    }
   ],
   "source": [
    "sql = \"set global query_cache_type = ON\"\n",
    "cursor.execute(sql)\n",
    "sql = \"show variables like '%query_cache%'\"\n",
    "cursor.execute(sql)\n",
    "rows = cursor.fetchall()\n",
    "for row in rows:\n",
    "    print(row)"
   ]
  },
  {
   "cell_type": "code",
   "execution_count": 32,
   "metadata": {},
   "outputs": [
    {
     "name": "stdout",
     "output_type": "stream",
     "text": [
      "{'Variable_name': 'have_query_cache', 'Value': 'YES'}\n",
      "{'Variable_name': 'query_cache_limit', 'Value': '1048576'}\n",
      "{'Variable_name': 'query_cache_min_res_unit', 'Value': '4096'}\n",
      "{'Variable_name': 'query_cache_size', 'Value': '1048576'}\n",
      "{'Variable_name': 'query_cache_type', 'Value': 'ON'}\n",
      "{'Variable_name': 'query_cache_wlock_invalidate', 'Value': 'OFF'}\n"
     ]
    }
   ],
   "source": [
    "cursor=db.cursor()\n",
    "sql = \"show variables like '%query_cache%'\"\n",
    "cursor.execute(sql)\n",
    "rows = cursor.fetchall()\n",
    "for row in rows:\n",
    "    print(row)"
   ]
  },
  {
   "cell_type": "code",
   "execution_count": 33,
   "metadata": {},
   "outputs": [],
   "source": [
    "db.close()"
   ]
  },
  {
   "cell_type": "code",
   "execution_count": null,
   "metadata": {},
   "outputs": [],
   "source": []
  }
 ],
 "metadata": {
  "kernelspec": {
   "display_name": "Python 3",
   "language": "python",
   "name": "python3"
  },
  "language_info": {
   "codemirror_mode": {
    "name": "ipython",
    "version": 3
   },
   "file_extension": ".py",
   "mimetype": "text/x-python",
   "name": "python",
   "nbconvert_exporter": "python",
   "pygments_lexer": "ipython3",
   "version": "3.6.10"
  }
 },
 "nbformat": 4,
 "nbformat_minor": 2
}
