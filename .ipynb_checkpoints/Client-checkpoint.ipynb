{
 "cells": [
  {
   "cell_type": "code",
   "execution_count": 1,
   "metadata": {},
   "outputs": [],
   "source": [
    "from tinydb import TinyDB, Query\n",
    "from collections import Counter\n",
    "import time"
   ]
  },
  {
   "cell_type": "code",
   "execution_count": 2,
   "metadata": {},
   "outputs": [],
   "source": [
    "db = TinyDB('C:/Users/lxycu/Downloads/Database/Final_Project/NYT.json')\n",
    "db_results = TinyDB('C:/Users/lxycu/Downloads/Database/Final_Project/results.json')\n",
    "wordcount = db.table('wordcount')\n",
    "IDs = db.table('IDs')\n",
    "article_body = db.table('Body')\n",
    "db_results.purge_tables()"
   ]
  },
  {
   "cell_type": "code",
   "execution_count": 3,
   "metadata": {},
   "outputs": [],
   "source": [
    "def search_by_title(input_title):\n",
    "    # Initialize the data\n",
    "    aba = article_body.all()\n",
    "    IDs_all = IDs.all()\n",
    "    word_all = wordcount.all()\n",
    "    # Check if already been searched\n",
    "    if input_title in list(db_results.tables()):\n",
    "        result_temp = db_results.table(input_title).all()\n",
    "        for i in range(0, len(result_temp)):\n",
    "            # Print results\n",
    "            print(result_temp[i]['title'] + '\\n' + result_temp[i]['first_para'] + '...' + '\\n'*2)\n",
    "    # If not been searched, save it to a new table \n",
    "    else: \n",
    "        results_table = db_results.table(input_title)\n",
    "        # Print and save results\n",
    "        for i in range(0, len(IDs)):\n",
    "            if input_title in aba[i]['title']:\n",
    "                results_table.insert({'_id':IDs_all[i]['_id'], 'title':aba[i]['title'], 'first_para': IDs_all[i]['lead_paragraph'], 'wordcount':word_all[i]['word_count']})\n",
    "                print(aba[i]['title'] + '\\n' + IDs_all[i]['lead_paragraph'] + '...' + '\\n'*2)"
   ]
  },
  {
   "cell_type": "code",
   "execution_count": 4,
   "metadata": {},
   "outputs": [],
   "source": [
    "def common_words(input_word):\n",
    "    # Initialize the data\n",
    "    results = db_results.table(input_word).all()\n",
    "    # Initialize the common words list\n",
    "    common = list(results[0]['wordcount'].keys())\n",
    "    # Check number of elements in seraching results\n",
    "    if len(results) < 2:\n",
    "        print(\"No More Than One Results.\")\n",
    "        return\n",
    "    # Find common words and display\n",
    "    for i in range(1,len(results)):\n",
    "        word_keys = list(results[i]['wordcount'].keys())\n",
    "        common = set(common).intersection(set(word_keys))\n",
    "    print('The Common Words Are:' + '\\n')\n",
    "    print(common)"
   ]
  },
  {
   "cell_type": "code",
   "execution_count": 5,
   "metadata": {},
   "outputs": [],
   "source": [
    "def word_stat(input_word):\n",
    "    # Initialize the data\n",
    "    results = db_results.table(input_word).all()\n",
    "    # Use dictionary to store the word count pair\n",
    "    merged_counts = {}\n",
    "    # Calculate frequency\n",
    "    for i in range(0, len(results)):\n",
    "        merged_counts = dict(Counter(merged_counts) + Counter(results[i]['wordcount']))\n",
    "    # Sort the dictionary\n",
    "    a = sorted(merged_counts.items(), key=lambda item: item[1], reverse = True)\n",
    "    print('\\n' + 'Sorted Overall Word Count in Results:' + '\\n')\n",
    "    for i in range(0,20):\n",
    "        print(a[i])"
   ]
  },
  {
   "cell_type": "code",
   "execution_count": 6,
   "metadata": {},
   "outputs": [],
   "source": [
    "# Define Jaccard Index\n",
    "def jaccard (list1, list2):\n",
    "    a = len(list1)\n",
    "    b = len(list2)\n",
    "    c = len(set(list1) & set(list2))\n",
    "    return(c/(a+b-c))"
   ]
  },
  {
   "cell_type": "code",
   "execution_count": 7,
   "metadata": {},
   "outputs": [],
   "source": [
    "# Create Jaccard Matrix, input is the searching key words\n",
    "import numpy\n",
    "def jaccard_mat(input):\n",
    "    # Initialize data\n",
    "    data = db_results.table(input).all()\n",
    "    l = len(data)\n",
    "    # Create a blank matrix of l * l where l is the number of results\n",
    "    mat = numpy.zeros(shape=(l,l))\n",
    "    # Assign Jaccard indeces to each entry of the matrix\n",
    "    for i in range(l):\n",
    "        for j in range(l):\n",
    "            keylist1 = list(dict(data[i]['wordcount']).keys())\n",
    "            keylist2 = list(dict(data[j]['wordcount']).keys())\n",
    "            mat[i][j] = round(jaccard(keylist1,keylist2),2)\n",
    "    return(mat)"
   ]
  },
  {
   "cell_type": "code",
   "execution_count": 8,
   "metadata": {},
   "outputs": [],
   "source": [
    "# Plot the Matrix using color to demonstrate the value\n",
    "import matplotlib.pyplot as plt\n",
    "\n",
    "def plotmat(input):\n",
    "    fig, ax = plt.subplots()\n",
    "    intersection_matrix = jaccard_mat(input)\n",
    "\n",
    "    ax.matshow(intersection_matrix, cmap=plt.cm.Blues)\n",
    "\n",
    "    for i in range(len(intersection_matrix)):\n",
    "        for j in range(len(intersection_matrix)):\n",
    "            c = intersection_matrix[j,i]\n",
    "            ax.text(i, j, str(c), va='center', ha='center')"
   ]
  },
  {
   "cell_type": "code",
   "execution_count": 9,
   "metadata": {},
   "outputs": [],
   "source": [
    "from __future__ import print_function\n",
    "from ipywidgets import interact, interactive, fixed, interact_manual\n",
    "import ipywidgets as widgets"
   ]
  },
  {
   "cell_type": "code",
   "execution_count": 10,
   "metadata": {},
   "outputs": [
    {
     "data": {
      "application/vnd.jupyter.widget-view+json": {
       "model_id": "9a0c5dc6b1de40e78ad9e0687a4ba34c",
       "version_major": 2,
       "version_minor": 0
      },
      "text/plain": [
       "Text(value='', description='Input Title:')"
      ]
     },
     "metadata": {},
     "output_type": "display_data"
    },
    {
     "data": {
      "application/vnd.jupyter.widget-view+json": {
       "model_id": "74e8a4eab2a5467abb0a15c1590f794e",
       "version_major": 2,
       "version_minor": 0
      },
      "text/plain": [
       "Button(description='Search', style=ButtonStyle())"
      ]
     },
     "metadata": {},
     "output_type": "display_data"
    },
    {
     "name": "stdout",
     "output_type": "stream",
     "text": [
      "A Star’s Shoe Breaks, Putting College Basketball Under a Microscope - The New York Times\n",
      "When Duke’s Zion Williamson injured a knee after one of his Nike sneakers split open, it raised questions about amateurism and shoe companies’ influence in the sport....\n",
      "\n",
      "\n",
      "Iowa's Megan Gustafson Wins Honda Award for Basketball - The New York Times\n",
      "Megan Gustafson of Iowa has won the Honda Sports Award as the top woman in college basketball....\n",
      "\n",
      "\n",
      "Breanna Stewart Shows the Toll of Pro Women’s Basketball’s Never-Ending Grind - The New York Times\n",
      "Stewart, like many women, plays overseas in the W.N.B.A.’s off-season to earn more money. But the endless season takes a mental toll and, as an injured Stewart shows, a physical one....\n",
      "\n",
      "\n",
      "LSU Reinstates Men's Basketball Coach Wade - The New York Times\n",
      "Although noting \"regrets\" that LSU men's basketball coach Will Wade didn't comply with the school several weeks ago when asked about recruiting issues, athletic director Joe Alleva announced in a statement Sunday that Wade's month-plus suspension has been lifted....\n",
      "\n",
      "\n",
      "Perry Wallace, College Basketball Pioneer, Is Dead at 69 - The New York Times\n",
      "As the first black varsity basketball player in Southeastern Conference history, he distinguished himself on the court while battling racism....\n",
      "\n",
      "\n",
      "Magic Johnson Always Set His Sights Beyond Basketball - The New York Times\n",
      "Magic Johnson’s abrupt departure from the Lakers is the latest example of the former superstar’s interest in non-basketball endeavors....\n",
      "\n",
      "\n",
      "--- 1.2022175788879395 seconds ---\n",
      "The Common Words Are:\n",
      "\n",
      "{'from', 'were', 'basketball', 'this', 'with', 'first'}\n",
      "\n",
      "Sorted Overall Word Count in Results:\n",
      "\n",
      "('that', 79)\n",
      "('with', 53)\n",
      "('players', 23)\n",
      "('basketball', 23)\n",
      "('johnson', 23)\n",
      "('this', 22)\n",
      "('from', 21)\n",
      "('have', 20)\n",
      "('were', 20)\n",
      "('said', 18)\n",
      "('about', 18)\n",
      "('w.n.b.a.', 18)\n",
      "('their', 17)\n",
      "('first', 17)\n",
      "('just', 17)\n",
      "('when', 16)\n",
      "('wallace', 16)\n",
      "('nike', 15)\n",
      "('said.', 14)\n",
      "('will', 14)\n"
     ]
    },
    {
     "data": {
      "image/png": "[encoded data removed]",
      "text/plain": [
       "<Figure size 432x288 with 1 Axes>"
      ]
     },
     "metadata": {
      "needs_background": "light"
     },
     "output_type": "display_data"
    }
   ],
   "source": [
    "# GUI\n",
    "# Create the textbox for inputs\n",
    "text = widgets.Text(description = \"Input Title:\")\n",
    "display(text)\n",
    "# Create the button\n",
    "button = widgets.Button(description = \"Search\")\n",
    "display(button)\n",
    "# Execute the functions\n",
    "def on_button_clicked(b):\n",
    "    start_time = time.time()\n",
    "    search_by_title(text.value)\n",
    "    print(\"--- %s seconds ---\" % (time.time() - start_time))\n",
    "    common_words(text.value)\n",
    "    word_stat(text.value)\n",
    "    plotmat(text.value)\n",
    "    \n",
    "button.on_click(on_button_clicked)"
   ]
  },
  {
   "cell_type": "code",
   "execution_count": null,
   "metadata": {},
   "outputs": [],
   "source": []
  }
 ],
 "metadata": {
  "kernelspec": {
   "display_name": "Python 3",
   "language": "python",
   "name": "python3"
  },
  "language_info": {
   "codemirror_mode": {
    "name": "ipython",
    "version": 3
   },
   "file_extension": ".py",
   "mimetype": "text/x-python",
   "name": "python",
   "nbconvert_exporter": "python",
   "pygments_lexer": "ipython3",
   "version": "3.6.10"
  }
 },
 "nbformat": 4,
 "nbformat_minor": 2
}
