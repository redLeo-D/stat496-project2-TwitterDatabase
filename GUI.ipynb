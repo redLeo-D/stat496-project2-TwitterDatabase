{
 "cells": [
  {
   "cell_type": "code",
   "execution_count": 15,
   "metadata": {},
   "outputs": [],
   "source": [
    "from ipywidgets import interact, interactive, fixed, interact_manual\n",
    "import ipywidgets as widgets\n",
    "import pymysql\n",
    "import time\n",
    "import pandas as pd"
   ]
  },
  {
   "cell_type": "code",
   "execution_count": 38,
   "metadata": {},
   "outputs": [],
   "source": [
    "def search_by_user(name,num=\">-1\"):\n",
    "    sql=\"select screen_name name,description,favourites_count,followers_count,friends_count from user_info where name like '%\"+name+\"%' and followers_count\"+num+\" order by followers_count desc\"  \n",
    "    cache = cache_user.get(str(sql))\n",
    "    if cache != -1:\n",
    "        out=cache\n",
    "    else:\n",
    "        out=search_db_user(sql)\n",
    "        cache_user.put(str(sql), out)\n",
    "    return out\n",
    "    \n",
    "def search_db_user(sql):\n",
    "    db = pymysql.connect(host='projectuser.cjnnbmy31uit.us-east-2.rds.amazonaws.com',\n",
    "                     user='admin',\n",
    "                     passwd='4ULstfSQwoIkWzDz3Qd6',\n",
    "                     port=3306,\n",
    "                     charset='utf8',\n",
    "                     db='tweetuser',\n",
    "                     cursorclass=pymysql.cursors.DictCursor)\n",
    "    cursor=db.cursor()\n",
    "    cursor.execute(sql)\n",
    "    rows = cursor.fetchall()\n",
    "    out=list(rows)\n",
    "    db.close()\n",
    "    return out\n",
    "\n",
    "def user_button_clicked(b):\n",
    "    time_start = time.time()\n",
    "    user_info=search_by_user(text1.value,text2.value)\n",
    "    time_end = time.time()\n",
    "    print('time cost:',time_end-time_start,'s')\n",
    "    for row in user_info:\n",
    "        print(\"-------------------------------\")\n",
    "        print(row)\n",
    "        print(\"-------------------------------\")"
   ]
  },
  {
   "cell_type": "code",
   "execution_count": 39,
   "metadata": {
    "scrolled": false
   },
   "outputs": [
    {
     "data": {
      "application/vnd.jupyter.widget-view+json": {
       "model_id": "9fa78b0a0d7841b580fdbc6353697845",
       "version_major": 2,
       "version_minor": 0
      },
      "text/plain": [
       "Text(value='', description='Name:')"
      ]
     },
     "metadata": {},
     "output_type": "display_data"
    },
    {
     "data": {
      "application/vnd.jupyter.widget-view+json": {
       "model_id": "cf19794c6c5b42d6b9a2fb1b48b4aed8",
       "version_major": 2,
       "version_minor": 0
      },
      "text/plain": [
       "Text(value='', description='Followers:')"
      ]
     },
     "metadata": {},
     "output_type": "display_data"
    },
    {
     "data": {
      "application/vnd.jupyter.widget-view+json": {
       "model_id": "888f19a2629d4f60a2f791a081d36487",
       "version_major": 2,
       "version_minor": 0
      },
      "text/plain": [
       "Button(description='Search', style=ButtonStyle())"
      ]
     },
     "metadata": {},
     "output_type": "display_data"
    },
    {
     "name": "stdout",
     "output_type": "stream",
     "text": [
      "time cost: 0.20588231086730957 s\n",
      "-------------------------------\n",
      "{'name': 'Product Hunt', 'description': 'The place to discover your next favorite thing. Emoji spirit of @AngelList ?? Follow @yourstacks for pancakes ?', 'favourites_count': 82769, 'followers_count': 405775, 'friends_count': 33}\n",
      "-------------------------------\n",
      "-------------------------------\n",
      "{'name': 'Lovin Dubai', 'description': 'Lovin’ captures the best of the world around us: what we see do think, eat and drink. Lovin’s mantra is simple: Lovin’ Your Life.', 'favourites_count': 5369, 'followers_count': 243989, 'friends_count': 1307}\n",
      "-------------------------------\n",
      "-------------------------------\n",
      "{'name': 'Eduardo Arias', 'description': '1958. Sector de Sirio.\\n@horalocalbanda\\nhttp://soundcloud.com/boac-vc10 \\nhttp://boac-vc10.skyrock.com', 'favourites_count': 64122, 'followers_count': 103403, 'friends_count': 82058}\n",
      "-------------------------------\n"
     ]
    }
   ],
   "source": [
    "text1 = widgets.Text(description = \"Name:\")\n",
    "display(text1)\n",
    "text2 = widgets.Text(description = \"Followers:\")\n",
    "display(text2)\n",
    "button = widgets.Button(description = \"Search\")\n",
    "display(button)\n",
    "button.on_click(user_button_clicked)"
   ]
  },
  {
   "cell_type": "code",
   "execution_count": null,
   "metadata": {},
   "outputs": [],
   "source": []
  }
 ],
 "metadata": {
  "kernelspec": {
   "display_name": "Python 3",
   "language": "python",
   "name": "python3"
  },
  "language_info": {
   "codemirror_mode": {
    "name": "ipython",
    "version": 3
   },
   "file_extension": ".py",
   "mimetype": "text/x-python",
   "name": "python",
   "nbconvert_exporter": "python",
   "pygments_lexer": "ipython3",
   "version": "3.7.3"
  },
  "widgets": {
   "application/vnd.jupyter.widget-state+json": {
    "state": {
     "0192de752ef744b98d533dbe466176f9": {
      "model_module": "@jupyter-widgets/base",
      "model_module_version": "1.2.0",
      "model_name": "LayoutModel",
      "state": {}
     },
     "02be0534675346c5aee4e72ed181b015": {
      "model_module": "@jupyter-widgets/controls",
      "model_module_version": "1.5.0",
      "model_name": "DescriptionStyleModel",
      "state": {
       "description_width": ""
      }
     },
     "033730772afa4458801136cc887efca0": {
      "model_module": "@jupyter-widgets/controls",
      "model_module_version": "1.5.0",
      "model_name": "TextModel",
      "state": {
       "description": "Name:",
       "layout": "IPY_MODEL_c258c93538254ff8a0b02e4ccfaacfad",
       "style": "IPY_MODEL_21572e3c6edc437a8979bd9b91815bf8"
      }
     },
     "0377074b4a574ce5ab90a2a76447bede": {
      "model_module": "@jupyter-widgets/controls",
      "model_module_version": "1.5.0",
      "model_name": "TextModel",
      "state": {
       "description": "Name:",
       "layout": "IPY_MODEL_0192de752ef744b98d533dbe466176f9",
       "style": "IPY_MODEL_6aabbaeb19ac4f6a901f8b469d26f5e3",
       "value": "du"
      }
     },
     "040c7a47c43d411d9d32dadef23eeeb9": {
      "model_module": "@jupyter-widgets/controls",
      "model_module_version": "1.5.0",
      "model_name": "ButtonStyleModel",
      "state": {}
     },
     "0b4e23f1f66f46209038726dc45e56fb": {
      "model_module": "@jupyter-widgets/controls",
      "model_module_version": "1.5.0",
      "model_name": "ButtonStyleModel",
      "state": {}
     },
     "0c27c6b121904bf5bfbd120810ba3485": {
      "model_module": "@jupyter-widgets/base",
      "model_module_version": "1.2.0",
      "model_name": "LayoutModel",
      "state": {}
     },
     "0d23f504d5a24de288c41129bee58234": {
      "model_module": "@jupyter-widgets/controls",
      "model_module_version": "1.5.0",
      "model_name": "TextModel",
      "state": {
       "description": "Name:",
       "layout": "IPY_MODEL_7af62476565e49fb82079b2054ed5818",
       "style": "IPY_MODEL_a640dd8b355445af955ac6c62542ffb3",
       "value": "du"
      }
     },
     "0d93aa561b2d448092d70b2290bf22c7": {
      "model_module": "@jupyter-widgets/base",
      "model_module_version": "1.2.0",
      "model_name": "LayoutModel",
      "state": {}
     },
     "0e1eabac35e44dafa96dadd8a2dcdce4": {
      "model_module": "@jupyter-widgets/base",
      "model_module_version": "1.2.0",
      "model_name": "LayoutModel",
      "state": {}
     },
     "10cbf552fefa45daa1c1cdd68ea81a58": {
      "model_module": "@jupyter-widgets/controls",
      "model_module_version": "1.5.0",
      "model_name": "TextModel",
      "state": {
       "description": "Name:",
       "layout": "IPY_MODEL_9e26a9e0e0b74d4294ef1d580dd0a953",
       "style": "IPY_MODEL_d7a391e8ff6a46ff897cc5ede474237e"
      }
     },
     "128554b67b5f4945a91694cffceec299": {
      "model_module": "@jupyter-widgets/controls",
      "model_module_version": "1.5.0",
      "model_name": "ButtonModel",
      "state": {
       "description": "Search",
       "layout": "IPY_MODEL_eeb4c47955d04e7f8263ca484cf901b2",
       "style": "IPY_MODEL_1fa96e912dab4fb5b7d9b0c5524938ce"
      }
     },
     "15f1795960984f6abdf80f922a6dcf98": {
      "model_module": "@jupyter-widgets/controls",
      "model_module_version": "1.5.0",
      "model_name": "DescriptionStyleModel",
      "state": {
       "description_width": ""
      }
     },
     "164545be95324bf8912b4cd940e2e03a": {
      "model_module": "@jupyter-widgets/base",
      "model_module_version": "1.2.0",
      "model_name": "LayoutModel",
      "state": {}
     },
     "182e0b24625a4fff8a571e613d9e6f6f": {
      "model_module": "@jupyter-widgets/base",
      "model_module_version": "1.2.0",
      "model_name": "LayoutModel",
      "state": {}
     },
     "1a90091b8e8b476fb33828b297597580": {
      "model_module": "@jupyter-widgets/controls",
      "model_module_version": "1.5.0",
      "model_name": "DescriptionStyleModel",
      "state": {
       "description_width": ""
      }
     },
     "1b014e57724f416998b49a6e15ceae99": {
      "model_module": "@jupyter-widgets/controls",
      "model_module_version": "1.5.0",
      "model_name": "TextModel",
      "state": {
       "description": "Followers:",
       "layout": "IPY_MODEL_71f5144285374310b74628e0de05c1b2",
       "style": "IPY_MODEL_02be0534675346c5aee4e72ed181b015"
      }
     },
     "1ea17f90ecf04c4b894a0be3fecc8f3a": {
      "model_module": "@jupyter-widgets/base",
      "model_module_version": "1.2.0",
      "model_name": "LayoutModel",
      "state": {}
     },
     "1fa96e912dab4fb5b7d9b0c5524938ce": {
      "model_module": "@jupyter-widgets/controls",
      "model_module_version": "1.5.0",
      "model_name": "ButtonStyleModel",
      "state": {}
     },
     "1fd28e06760c4510b1dd13e83086a03b": {
      "model_module": "@jupyter-widgets/controls",
      "model_module_version": "1.5.0",
      "model_name": "ButtonModel",
      "state": {
       "description": "Search",
       "layout": "IPY_MODEL_98507c841b7b4750a7ab2f3bd9ccb8ab",
       "style": "IPY_MODEL_bd94ee02f2bf48d2951f8845a7ee529b"
      }
     },
     "21572e3c6edc437a8979bd9b91815bf8": {
      "model_module": "@jupyter-widgets/controls",
      "model_module_version": "1.5.0",
      "model_name": "DescriptionStyleModel",
      "state": {
       "description_width": ""
      }
     },
     "23aeee79009546f996635ac62e92ca53": {
      "model_module": "@jupyter-widgets/controls",
      "model_module_version": "1.5.0",
      "model_name": "ButtonModel",
      "state": {
       "description": "Search",
       "layout": "IPY_MODEL_4305632de25f4759aeeff6b636fb31ae",
       "style": "IPY_MODEL_e4e96e5e9246407899a07ceee3acd450"
      }
     },
     "2479b4ec54d34fcb950f06c70a678d93": {
      "model_module": "@jupyter-widgets/base",
      "model_module_version": "1.2.0",
      "model_name": "LayoutModel",
      "state": {}
     },
     "263abf91092e464c952bcd5644fe76bf": {
      "model_module": "@jupyter-widgets/controls",
      "model_module_version": "1.5.0",
      "model_name": "DescriptionStyleModel",
      "state": {
       "description_width": ""
      }
     },
     "2cf744be0ab94251af1255352595ce3d": {
      "model_module": "@jupyter-widgets/base",
      "model_module_version": "1.2.0",
      "model_name": "LayoutModel",
      "state": {}
     },
     "32394e3ebed447939252378954084764": {
      "model_module": "@jupyter-widgets/base",
      "model_module_version": "1.2.0",
      "model_name": "LayoutModel",
      "state": {}
     },
     "3831895b97f447308acc6318496dffb5": {
      "model_module": "@jupyter-widgets/controls",
      "model_module_version": "1.5.0",
      "model_name": "ButtonModel",
      "state": {
       "description": "Search",
       "layout": "IPY_MODEL_164545be95324bf8912b4cd940e2e03a",
       "style": "IPY_MODEL_7fea4fe145174a3f86e05c2875fb8277"
      }
     },
     "384116754b064ce59830568d54337436": {
      "model_module": "@jupyter-widgets/controls",
      "model_module_version": "1.5.0",
      "model_name": "DescriptionStyleModel",
      "state": {
       "description_width": ""
      }
     },
     "3c86de8e71434845af0ad10814b79b87": {
      "model_module": "@jupyter-widgets/controls",
      "model_module_version": "1.5.0",
      "model_name": "DescriptionStyleModel",
      "state": {
       "description_width": ""
      }
     },
     "3db2a6f1d83b4c4594702db0888d419d": {
      "model_module": "@jupyter-widgets/base",
      "model_module_version": "1.2.0",
      "model_name": "LayoutModel",
      "state": {}
     },
     "40f13c8799c94b4fadc3e4ac7c4f82df": {
      "model_module": "@jupyter-widgets/controls",
      "model_module_version": "1.5.0",
      "model_name": "ButtonModel",
      "state": {
       "description": "Search",
       "layout": "IPY_MODEL_182e0b24625a4fff8a571e613d9e6f6f",
       "style": "IPY_MODEL_0b4e23f1f66f46209038726dc45e56fb"
      }
     },
     "413643dd4c8b410c901e8d2f137554bb": {
      "model_module": "@jupyter-widgets/controls",
      "model_module_version": "1.5.0",
      "model_name": "ButtonModel",
      "state": {
       "description": "Search",
       "layout": "IPY_MODEL_ad25f3bc4d574fdb94c1e3755ef1b62c",
       "style": "IPY_MODEL_d7f0eb61768e4b8cbd5a0611e079cd99"
      }
     },
     "417fddc4f0d0420d8c355cdb1949b1e4": {
      "model_module": "@jupyter-widgets/controls",
      "model_module_version": "1.5.0",
      "model_name": "ButtonModel",
      "state": {
       "description": "Search",
       "layout": "IPY_MODEL_f9d5f92631684241a1247abd8974043e",
       "style": "IPY_MODEL_fecaa18cfa194fbebabf28b583e0b0f9"
      }
     },
     "4305632de25f4759aeeff6b636fb31ae": {
      "model_module": "@jupyter-widgets/base",
      "model_module_version": "1.2.0",
      "model_name": "LayoutModel",
      "state": {}
     },
     "4431b1cb4198448eaea22a5ca30b77cb": {
      "model_module": "@jupyter-widgets/controls",
      "model_module_version": "1.5.0",
      "model_name": "ButtonStyleModel",
      "state": {}
     },
     "457d1d2c23bd4d3fb8de6bc7313d107c": {
      "model_module": "@jupyter-widgets/controls",
      "model_module_version": "1.5.0",
      "model_name": "ButtonStyleModel",
      "state": {}
     },
     "467899e623524fe2af04dd56b7179720": {
      "model_module": "@jupyter-widgets/controls",
      "model_module_version": "1.5.0",
      "model_name": "TextModel",
      "state": {
       "description": "Name:",
       "layout": "IPY_MODEL_0c27c6b121904bf5bfbd120810ba3485",
       "style": "IPY_MODEL_ab8565d963164908a973e614b2189245"
      }
     },
     "4fc80f02460842c0af1480614c17841b": {
      "model_module": "@jupyter-widgets/base",
      "model_module_version": "1.2.0",
      "model_name": "LayoutModel",
      "state": {}
     },
     "514aa041c5704d7c9a33bb7d3867c8bf": {
      "model_module": "@jupyter-widgets/controls",
      "model_module_version": "1.5.0",
      "model_name": "ButtonModel",
      "state": {
       "description": "Search",
       "layout": "IPY_MODEL_684bea7c94d448fabc15d3436574e1e7",
       "style": "IPY_MODEL_a7c40bfb6a924ea28629f3ddea06c752"
      }
     },
     "539ea6984b744507a3ee8224abf7ef0a": {
      "model_module": "@jupyter-widgets/base",
      "model_module_version": "1.2.0",
      "model_name": "LayoutModel",
      "state": {}
     },
     "5410ee8a9a18492b9faaa53f72324ac5": {
      "model_module": "@jupyter-widgets/controls",
      "model_module_version": "1.5.0",
      "model_name": "ButtonModel",
      "state": {
       "description": "Search",
       "layout": "IPY_MODEL_b079707310174ad899be255a20df6f10",
       "style": "IPY_MODEL_4431b1cb4198448eaea22a5ca30b77cb"
      }
     },
     "548f1669e959442d9c429029056511d5": {
      "model_module": "@jupyter-widgets/controls",
      "model_module_version": "1.5.0",
      "model_name": "TextModel",
      "state": {
       "description": "Name:",
       "layout": "IPY_MODEL_69c685967b5f4cf18a31537cdc4531b1",
       "style": "IPY_MODEL_15f1795960984f6abdf80f922a6dcf98"
      }
     },
     "5780c4629540463d8976c3338ee91968": {
      "model_module": "@jupyter-widgets/controls",
      "model_module_version": "1.5.0",
      "model_name": "TextModel",
      "state": {
       "description": "Followers:",
       "layout": "IPY_MODEL_60626419ea8149d29f1f34d13b0216b5",
       "style": "IPY_MODEL_b8e41a88327c4f509e3351cac0454f03"
      }
     },
     "5fb2f39ef0b142409772e8a485078efa": {
      "model_module": "@jupyter-widgets/base",
      "model_module_version": "1.2.0",
      "model_name": "LayoutModel",
      "state": {}
     },
     "60626419ea8149d29f1f34d13b0216b5": {
      "model_module": "@jupyter-widgets/base",
      "model_module_version": "1.2.0",
      "model_name": "LayoutModel",
      "state": {}
     },
     "60875ba3ae7d4b13b4cc35b80d8187af": {
      "model_module": "@jupyter-widgets/controls",
      "model_module_version": "1.5.0",
      "model_name": "TextModel",
      "state": {
       "description": "follower:",
       "layout": "IPY_MODEL_f333ac6754244eadbf0536c7f1dcf5ea",
       "style": "IPY_MODEL_6aba6acaa2554034b122000b23660064"
      }
     },
     "61f9475d35e7400d8129d7c68c4c216b": {
      "model_module": "@jupyter-widgets/controls",
      "model_module_version": "1.5.0",
      "model_name": "ButtonStyleModel",
      "state": {}
     },
     "62f21765d0e8478c884c162c3991d5bf": {
      "model_module": "@jupyter-widgets/base",
      "model_module_version": "1.2.0",
      "model_name": "LayoutModel",
      "state": {}
     },
     "68199477250d417fb2ef43795c05b520": {
      "model_module": "@jupyter-widgets/controls",
      "model_module_version": "1.5.0",
      "model_name": "ButtonModel",
      "state": {
       "description": "Search",
       "layout": "IPY_MODEL_ef2db1947cb04c69a1e3f5ccff04888c",
       "style": "IPY_MODEL_f510499305ad450482f1291605cf47be"
      }
     },
     "684bea7c94d448fabc15d3436574e1e7": {
      "model_module": "@jupyter-widgets/base",
      "model_module_version": "1.2.0",
      "model_name": "LayoutModel",
      "state": {}
     },
     "69c685967b5f4cf18a31537cdc4531b1": {
      "model_module": "@jupyter-widgets/base",
      "model_module_version": "1.2.0",
      "model_name": "LayoutModel",
      "state": {}
     },
     "6aabbaeb19ac4f6a901f8b469d26f5e3": {
      "model_module": "@jupyter-widgets/controls",
      "model_module_version": "1.5.0",
      "model_name": "DescriptionStyleModel",
      "state": {
       "description_width": ""
      }
     },
     "6aba6acaa2554034b122000b23660064": {
      "model_module": "@jupyter-widgets/controls",
      "model_module_version": "1.5.0",
      "model_name": "DescriptionStyleModel",
      "state": {
       "description_width": ""
      }
     },
     "6b7b1ea36e4847a1898ee97dbfd546a3": {
      "model_module": "@jupyter-widgets/controls",
      "model_module_version": "1.5.0",
      "model_name": "DescriptionStyleModel",
      "state": {
       "description_width": ""
      }
     },
     "6ceea41f3f6a4f83a776b87532fb4274": {
      "model_module": "@jupyter-widgets/controls",
      "model_module_version": "1.5.0",
      "model_name": "DescriptionStyleModel",
      "state": {
       "description_width": ""
      }
     },
     "71f5144285374310b74628e0de05c1b2": {
      "model_module": "@jupyter-widgets/base",
      "model_module_version": "1.2.0",
      "model_name": "LayoutModel",
      "state": {}
     },
     "7681f520811d4deb9e94e2907fbff22b": {
      "model_module": "@jupyter-widgets/controls",
      "model_module_version": "1.5.0",
      "model_name": "TextModel",
      "state": {
       "description": "Input Title:",
       "layout": "IPY_MODEL_9dbc63db3dcb44d292d10900b21f8cd7",
       "style": "IPY_MODEL_9334280afe23476d9ca0f310887808b4"
      }
     },
     "78b58ee4a3c84a3da622b8c273967e69": {
      "model_module": "@jupyter-widgets/controls",
      "model_module_version": "1.5.0",
      "model_name": "DescriptionStyleModel",
      "state": {
       "description_width": ""
      }
     },
     "78ebf591b81a40a0bb46a89f7ca1e0a0": {
      "model_module": "@jupyter-widgets/controls",
      "model_module_version": "1.5.0",
      "model_name": "TextModel",
      "state": {
       "description": "Name:",
       "layout": "IPY_MODEL_0d93aa561b2d448092d70b2290bf22c7",
       "style": "IPY_MODEL_1a90091b8e8b476fb33828b297597580"
      }
     },
     "7af62476565e49fb82079b2054ed5818": {
      "model_module": "@jupyter-widgets/base",
      "model_module_version": "1.2.0",
      "model_name": "LayoutModel",
      "state": {}
     },
     "7d5032b6bcd54090a220913f82bf0956": {
      "model_module": "@jupyter-widgets/base",
      "model_module_version": "1.2.0",
      "model_name": "LayoutModel",
      "state": {}
     },
     "7f58e475450d47c794a17679c0ecb1b4": {
      "model_module": "@jupyter-widgets/controls",
      "model_module_version": "1.5.0",
      "model_name": "ButtonModel",
      "state": {
       "description": "Search",
       "layout": "IPY_MODEL_e7c61314684d4797ac27bfc36977476f",
       "style": "IPY_MODEL_61f9475d35e7400d8129d7c68c4c216b"
      }
     },
     "7fea4fe145174a3f86e05c2875fb8277": {
      "model_module": "@jupyter-widgets/controls",
      "model_module_version": "1.5.0",
      "model_name": "ButtonStyleModel",
      "state": {}
     },
     "801930cd3e9f4b9385bb8d6e648009fc": {
      "model_module": "@jupyter-widgets/base",
      "model_module_version": "1.2.0",
      "model_name": "LayoutModel",
      "state": {}
     },
     "8bf4556c958642e8b583922645d1bd60": {
      "model_module": "@jupyter-widgets/controls",
      "model_module_version": "1.5.0",
      "model_name": "TextModel",
      "state": {
       "description": "Followers:",
       "layout": "IPY_MODEL_5fb2f39ef0b142409772e8a485078efa",
       "style": "IPY_MODEL_6ceea41f3f6a4f83a776b87532fb4274"
      }
     },
     "8ee32ef1472f40368bf6e457708272f7": {
      "model_module": "@jupyter-widgets/base",
      "model_module_version": "1.2.0",
      "model_name": "LayoutModel",
      "state": {}
     },
     "8fe67e29849e4aeaa9b0f1c6f58182a4": {
      "model_module": "@jupyter-widgets/controls",
      "model_module_version": "1.5.0",
      "model_name": "ButtonModel",
      "state": {
       "description": "Search",
       "layout": "IPY_MODEL_95ae00b5d37946e1b92697876c1d9677",
       "style": "IPY_MODEL_d61437c686e148b9a6fee3fa13113868"
      }
     },
     "91259caa5d754a9a983f6d7717198912": {
      "model_module": "@jupyter-widgets/base",
      "model_module_version": "1.2.0",
      "model_name": "LayoutModel",
      "state": {}
     },
     "92f0b5d9b06e41dfabb81b7bc3dec452": {
      "model_module": "@jupyter-widgets/controls",
      "model_module_version": "1.5.0",
      "model_name": "DescriptionStyleModel",
      "state": {
       "description_width": ""
      }
     },
     "9334280afe23476d9ca0f310887808b4": {
      "model_module": "@jupyter-widgets/controls",
      "model_module_version": "1.5.0",
      "model_name": "DescriptionStyleModel",
      "state": {
       "description_width": ""
      }
     },
     "95ae00b5d37946e1b92697876c1d9677": {
      "model_module": "@jupyter-widgets/base",
      "model_module_version": "1.2.0",
      "model_name": "LayoutModel",
      "state": {}
     },
     "97dae3ce8d544acaa2dd822387d752f7": {
      "model_module": "@jupyter-widgets/controls",
      "model_module_version": "1.5.0",
      "model_name": "ButtonModel",
      "state": {
       "description": "Search",
       "layout": "IPY_MODEL_2cf744be0ab94251af1255352595ce3d",
       "style": "IPY_MODEL_f46619c0ef944d04b6e905847b82a0d5"
      }
     },
     "98507c841b7b4750a7ab2f3bd9ccb8ab": {
      "model_module": "@jupyter-widgets/base",
      "model_module_version": "1.2.0",
      "model_name": "LayoutModel",
      "state": {}
     },
     "9cdc1b0c39cb4294851ba12d755ae1ba": {
      "model_module": "@jupyter-widgets/controls",
      "model_module_version": "1.5.0",
      "model_name": "TextModel",
      "state": {
       "description": "Name:",
       "layout": "IPY_MODEL_a258e0823b5f4c1b805c8ac45c9d6acd",
       "style": "IPY_MODEL_d7085ee39fab451fb9ef7b89b7b017f2",
       "value": "du"
      }
     },
     "9d8514f953894c2ebd1f45963e07d369": {
      "model_module": "@jupyter-widgets/controls",
      "model_module_version": "1.5.0",
      "model_name": "DescriptionStyleModel",
      "state": {
       "description_width": ""
      }
     },
     "9dbc63db3dcb44d292d10900b21f8cd7": {
      "model_module": "@jupyter-widgets/base",
      "model_module_version": "1.2.0",
      "model_name": "LayoutModel",
      "state": {}
     },
     "9e26a9e0e0b74d4294ef1d580dd0a953": {
      "model_module": "@jupyter-widgets/base",
      "model_module_version": "1.2.0",
      "model_name": "LayoutModel",
      "state": {}
     },
     "a2477c5becac494cb17ad1570ac6a481": {
      "model_module": "@jupyter-widgets/base",
      "model_module_version": "1.2.0",
      "model_name": "LayoutModel",
      "state": {}
     },
     "a258e0823b5f4c1b805c8ac45c9d6acd": {
      "model_module": "@jupyter-widgets/base",
      "model_module_version": "1.2.0",
      "model_name": "LayoutModel",
      "state": {}
     },
     "a640dd8b355445af955ac6c62542ffb3": {
      "model_module": "@jupyter-widgets/controls",
      "model_module_version": "1.5.0",
      "model_name": "DescriptionStyleModel",
      "state": {
       "description_width": ""
      }
     },
     "a7c40bfb6a924ea28629f3ddea06c752": {
      "model_module": "@jupyter-widgets/controls",
      "model_module_version": "1.5.0",
      "model_name": "ButtonStyleModel",
      "state": {}
     },
     "ab8565d963164908a973e614b2189245": {
      "model_module": "@jupyter-widgets/controls",
      "model_module_version": "1.5.0",
      "model_name": "DescriptionStyleModel",
      "state": {
       "description_width": ""
      }
     },
     "ad25f3bc4d574fdb94c1e3755ef1b62c": {
      "model_module": "@jupyter-widgets/base",
      "model_module_version": "1.2.0",
      "model_name": "LayoutModel",
      "state": {}
     },
     "adb4dc9cb81a4c5b83a822de5be99b70": {
      "model_module": "@jupyter-widgets/controls",
      "model_module_version": "1.5.0",
      "model_name": "TextModel",
      "state": {
       "description": "Number of Followers:",
       "layout": "IPY_MODEL_801930cd3e9f4b9385bb8d6e648009fc",
       "style": "IPY_MODEL_afe34f1dccec4cf0990264bcbcc59fcd"
      }
     },
     "afe34f1dccec4cf0990264bcbcc59fcd": {
      "model_module": "@jupyter-widgets/controls",
      "model_module_version": "1.5.0",
      "model_name": "DescriptionStyleModel",
      "state": {
       "description_width": ""
      }
     },
     "b079707310174ad899be255a20df6f10": {
      "model_module": "@jupyter-widgets/base",
      "model_module_version": "1.2.0",
      "model_name": "LayoutModel",
      "state": {}
     },
     "b7b8f4daa8ca413497628e3b0770daab": {
      "model_module": "@jupyter-widgets/base",
      "model_module_version": "1.2.0",
      "model_name": "LayoutModel",
      "state": {}
     },
     "b848d22249d842ada691478087b41329": {
      "model_module": "@jupyter-widgets/controls",
      "model_module_version": "1.5.0",
      "model_name": "TextModel",
      "state": {
       "description": "Followers:",
       "layout": "IPY_MODEL_32394e3ebed447939252378954084764",
       "style": "IPY_MODEL_78b58ee4a3c84a3da622b8c273967e69"
      }
     },
     "b8e41a88327c4f509e3351cac0454f03": {
      "model_module": "@jupyter-widgets/controls",
      "model_module_version": "1.5.0",
      "model_name": "DescriptionStyleModel",
      "state": {
       "description_width": ""
      }
     },
     "bd94ee02f2bf48d2951f8845a7ee529b": {
      "model_module": "@jupyter-widgets/controls",
      "model_module_version": "1.5.0",
      "model_name": "ButtonStyleModel",
      "state": {}
     },
     "c0bf368a50d3443db3cb709a5f795dca": {
      "model_module": "@jupyter-widgets/controls",
      "model_module_version": "1.5.0",
      "model_name": "DescriptionStyleModel",
      "state": {
       "description_width": ""
      }
     },
     "c258c93538254ff8a0b02e4ccfaacfad": {
      "model_module": "@jupyter-widgets/base",
      "model_module_version": "1.2.0",
      "model_name": "LayoutModel",
      "state": {}
     },
     "cafa960f9d90429987001a96dad4d783": {
      "model_module": "@jupyter-widgets/controls",
      "model_module_version": "1.5.0",
      "model_name": "TextModel",
      "state": {
       "description": "Followers:",
       "layout": "IPY_MODEL_8ee32ef1472f40368bf6e457708272f7",
       "style": "IPY_MODEL_263abf91092e464c952bcd5644fe76bf"
      }
     },
     "cd2daf4571274820b2bb9d7aa812ca25": {
      "model_module": "@jupyter-widgets/controls",
      "model_module_version": "1.5.0",
      "model_name": "TextModel",
      "state": {
       "description": "Name:",
       "layout": "IPY_MODEL_2479b4ec54d34fcb950f06c70a678d93",
       "style": "IPY_MODEL_c0bf368a50d3443db3cb709a5f795dca",
       "value": "du"
      }
     },
     "d14da2649a9a4d3b8b236438b198f37c": {
      "model_module": "@jupyter-widgets/controls",
      "model_module_version": "1.5.0",
      "model_name": "TextModel",
      "state": {
       "description": "Name:",
       "layout": "IPY_MODEL_b7b8f4daa8ca413497628e3b0770daab",
       "style": "IPY_MODEL_6b7b1ea36e4847a1898ee97dbfd546a3",
       "value": "du"
      }
     },
     "d4de169c4ed94a9ca376f1dde6002431": {
      "model_module": "@jupyter-widgets/controls",
      "model_module_version": "1.5.0",
      "model_name": "DescriptionStyleModel",
      "state": {
       "description_width": ""
      }
     },
     "d527bc74d28a4a79bd8dd8a9d0000271": {
      "model_module": "@jupyter-widgets/controls",
      "model_module_version": "1.5.0",
      "model_name": "TextModel",
      "state": {
       "description": "Followers:",
       "layout": "IPY_MODEL_62f21765d0e8478c884c162c3991d5bf",
       "style": "IPY_MODEL_e4b32bab58284003839fdb1a5489cef2"
      }
     },
     "d61437c686e148b9a6fee3fa13113868": {
      "model_module": "@jupyter-widgets/controls",
      "model_module_version": "1.5.0",
      "model_name": "ButtonStyleModel",
      "state": {}
     },
     "d7085ee39fab451fb9ef7b89b7b017f2": {
      "model_module": "@jupyter-widgets/controls",
      "model_module_version": "1.5.0",
      "model_name": "DescriptionStyleModel",
      "state": {
       "description_width": ""
      }
     },
     "d7a391e8ff6a46ff897cc5ede474237e": {
      "model_module": "@jupyter-widgets/controls",
      "model_module_version": "1.5.0",
      "model_name": "DescriptionStyleModel",
      "state": {
       "description_width": ""
      }
     },
     "d7f0eb61768e4b8cbd5a0611e079cd99": {
      "model_module": "@jupyter-widgets/controls",
      "model_module_version": "1.5.0",
      "model_name": "ButtonStyleModel",
      "state": {}
     },
     "dd01dd01fee64e88b750f6363eff1a4f": {
      "model_module": "@jupyter-widgets/controls",
      "model_module_version": "1.5.0",
      "model_name": "DescriptionStyleModel",
      "state": {
       "description_width": ""
      }
     },
     "e13d6df3660c4269ac98f4de37124698": {
      "model_module": "@jupyter-widgets/controls",
      "model_module_version": "1.5.0",
      "model_name": "TextModel",
      "state": {
       "description": "Followers:",
       "layout": "IPY_MODEL_539ea6984b744507a3ee8224abf7ef0a",
       "style": "IPY_MODEL_3c86de8e71434845af0ad10814b79b87"
      }
     },
     "e22d2897f07d4018a2acb71016868ee0": {
      "model_module": "@jupyter-widgets/controls",
      "model_module_version": "1.5.0",
      "model_name": "TextModel",
      "state": {
       "description": "Name:",
       "layout": "IPY_MODEL_4fc80f02460842c0af1480614c17841b",
       "style": "IPY_MODEL_9d8514f953894c2ebd1f45963e07d369",
       "value": "du"
      }
     },
     "e2c367aca39346bfb8f74eea72600945": {
      "model_module": "@jupyter-widgets/controls",
      "model_module_version": "1.5.0",
      "model_name": "TextModel",
      "state": {
       "description": "Name:",
       "layout": "IPY_MODEL_0e1eabac35e44dafa96dadd8a2dcdce4",
       "style": "IPY_MODEL_92f0b5d9b06e41dfabb81b7bc3dec452"
      }
     },
     "e32ebd11453b471bba94cdbfdbe3ebac": {
      "model_module": "@jupyter-widgets/controls",
      "model_module_version": "1.5.0",
      "model_name": "DescriptionStyleModel",
      "state": {
       "description_width": ""
      }
     },
     "e45e72fc53ff4f66b49b1f902ac94fb5": {
      "model_module": "@jupyter-widgets/controls",
      "model_module_version": "1.5.0",
      "model_name": "ButtonModel",
      "state": {
       "description": "Search",
       "layout": "IPY_MODEL_3db2a6f1d83b4c4594702db0888d419d",
       "style": "IPY_MODEL_457d1d2c23bd4d3fb8de6bc7313d107c"
      }
     },
     "e4a1d292a73f4e6190fa6f19703919cd": {
      "model_module": "@jupyter-widgets/controls",
      "model_module_version": "1.5.0",
      "model_name": "TextModel",
      "state": {
       "description": "Followers:",
       "layout": "IPY_MODEL_a2477c5becac494cb17ad1570ac6a481",
       "style": "IPY_MODEL_eb33d9c026674f41872b66815ff9ad5b",
       "value": ">10000"
      }
     },
     "e4b32bab58284003839fdb1a5489cef2": {
      "model_module": "@jupyter-widgets/controls",
      "model_module_version": "1.5.0",
      "model_name": "DescriptionStyleModel",
      "state": {
       "description_width": ""
      }
     },
     "e4e96e5e9246407899a07ceee3acd450": {
      "model_module": "@jupyter-widgets/controls",
      "model_module_version": "1.5.0",
      "model_name": "ButtonStyleModel",
      "state": {}
     },
     "e679c3b70552420e93aa657c5eba8fa7": {
      "model_module": "@jupyter-widgets/controls",
      "model_module_version": "1.5.0",
      "model_name": "TextModel",
      "state": {
       "description": "Name:",
       "layout": "IPY_MODEL_ff71f9da8cc7482bbe73d72dac3b9670",
       "style": "IPY_MODEL_dd01dd01fee64e88b750f6363eff1a4f"
      }
     },
     "e7c61314684d4797ac27bfc36977476f": {
      "model_module": "@jupyter-widgets/base",
      "model_module_version": "1.2.0",
      "model_name": "LayoutModel",
      "state": {}
     },
     "eb33d9c026674f41872b66815ff9ad5b": {
      "model_module": "@jupyter-widgets/controls",
      "model_module_version": "1.5.0",
      "model_name": "DescriptionStyleModel",
      "state": {
       "description_width": ""
      }
     },
     "ec04b95514f840c4ac57c121b70b5efd": {
      "model_module": "@jupyter-widgets/controls",
      "model_module_version": "1.5.0",
      "model_name": "TextModel",
      "state": {
       "description": "Followers:",
       "layout": "IPY_MODEL_7d5032b6bcd54090a220913f82bf0956",
       "style": "IPY_MODEL_384116754b064ce59830568d54337436",
       "value": ">100000"
      }
     },
     "eeb4c47955d04e7f8263ca484cf901b2": {
      "model_module": "@jupyter-widgets/base",
      "model_module_version": "1.2.0",
      "model_name": "LayoutModel",
      "state": {}
     },
     "ef2db1947cb04c69a1e3f5ccff04888c": {
      "model_module": "@jupyter-widgets/base",
      "model_module_version": "1.2.0",
      "model_name": "LayoutModel",
      "state": {}
     },
     "f333ac6754244eadbf0536c7f1dcf5ea": {
      "model_module": "@jupyter-widgets/base",
      "model_module_version": "1.2.0",
      "model_name": "LayoutModel",
      "state": {}
     },
     "f46619c0ef944d04b6e905847b82a0d5": {
      "model_module": "@jupyter-widgets/controls",
      "model_module_version": "1.5.0",
      "model_name": "ButtonStyleModel",
      "state": {}
     },
     "f510499305ad450482f1291605cf47be": {
      "model_module": "@jupyter-widgets/controls",
      "model_module_version": "1.5.0",
      "model_name": "ButtonStyleModel",
      "state": {}
     },
     "f9b34f03f0524e68bf2ab32cf98941df": {
      "model_module": "@jupyter-widgets/controls",
      "model_module_version": "1.5.0",
      "model_name": "ButtonModel",
      "state": {
       "description": "Search",
       "layout": "IPY_MODEL_91259caa5d754a9a983f6d7717198912",
       "style": "IPY_MODEL_040c7a47c43d411d9d32dadef23eeeb9"
      }
     },
     "f9d5f92631684241a1247abd8974043e": {
      "model_module": "@jupyter-widgets/base",
      "model_module_version": "1.2.0",
      "model_name": "LayoutModel",
      "state": {}
     },
     "fd33deae97164170a6bf7329ab6d561e": {
      "model_module": "@jupyter-widgets/controls",
      "model_module_version": "1.5.0",
      "model_name": "TextModel",
      "state": {
       "description": "Name:",
       "layout": "IPY_MODEL_ff273eaca7284c5aba7172575418692d",
       "style": "IPY_MODEL_e32ebd11453b471bba94cdbfdbe3ebac",
       "value": "du"
      }
     },
     "fe892a848b7848638d94604fb3a424d1": {
      "model_module": "@jupyter-widgets/controls",
      "model_module_version": "1.5.0",
      "model_name": "TextModel",
      "state": {
       "description": "Followers:",
       "layout": "IPY_MODEL_1ea17f90ecf04c4b894a0be3fecc8f3a",
       "style": "IPY_MODEL_d4de169c4ed94a9ca376f1dde6002431",
       "value": ">100000"
      }
     },
     "fecaa18cfa194fbebabf28b583e0b0f9": {
      "model_module": "@jupyter-widgets/controls",
      "model_module_version": "1.5.0",
      "model_name": "ButtonStyleModel",
      "state": {}
     },
     "ff273eaca7284c5aba7172575418692d": {
      "model_module": "@jupyter-widgets/base",
      "model_module_version": "1.2.0",
      "model_name": "LayoutModel",
      "state": {}
     },
     "ff71f9da8cc7482bbe73d72dac3b9670": {
      "model_module": "@jupyter-widgets/base",
      "model_module_version": "1.2.0",
      "model_name": "LayoutModel",
      "state": {}
     }
    },
    "version_major": 2,
    "version_minor": 0
   }
  }
 },
 "nbformat": 4,
 "nbformat_minor": 2
}
